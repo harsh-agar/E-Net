{
  "nbformat": 4,
  "nbformat_minor": 0,
  "metadata": {
    "colab": {
      "name": "Untitled14.ipynb",
      "provenance": [],
      "collapsed_sections": [],
      "authorship_tag": "ABX9TyMqtt65vCphwWn0jkL8a81W",
      "include_colab_link": true
    },
    "kernelspec": {
      "name": "python3",
      "display_name": "Python 3"
    },
    "accelerator": "GPU",
    "widgets": {
      "application/vnd.jupyter.widget-state+json": {
        "62f9de069211442e877c10bb3f6f796f": {
          "model_module": "@jupyter-widgets/controls",
          "model_name": "HBoxModel",
          "state": {
            "_view_name": "HBoxView",
            "_dom_classes": [],
            "_model_name": "HBoxModel",
            "_view_module": "@jupyter-widgets/controls",
            "_model_module_version": "1.5.0",
            "_view_count": null,
            "_view_module_version": "1.5.0",
            "box_style": "",
            "layout": "IPY_MODEL_97a3e86fe68e4aa784d93785e036000e",
            "_model_module": "@jupyter-widgets/controls",
            "children": [
              "IPY_MODEL_ec741862be42437696d7ab223874f7ba",
              "IPY_MODEL_b8e46035e6fc4dd0a7750f983ccb420c"
            ]
          }
        },
        "97a3e86fe68e4aa784d93785e036000e": {
          "model_module": "@jupyter-widgets/base",
          "model_name": "LayoutModel",
          "state": {
            "_view_name": "LayoutView",
            "grid_template_rows": null,
            "right": null,
            "justify_content": null,
            "_view_module": "@jupyter-widgets/base",
            "overflow": null,
            "_model_module_version": "1.2.0",
            "_view_count": null,
            "flex_flow": null,
            "width": null,
            "min_width": null,
            "border": null,
            "align_items": null,
            "bottom": null,
            "_model_module": "@jupyter-widgets/base",
            "top": null,
            "grid_column": null,
            "overflow_y": null,
            "overflow_x": null,
            "grid_auto_flow": null,
            "grid_area": null,
            "grid_template_columns": null,
            "flex": null,
            "_model_name": "LayoutModel",
            "justify_items": null,
            "grid_row": null,
            "max_height": null,
            "align_content": null,
            "visibility": null,
            "align_self": null,
            "height": null,
            "min_height": null,
            "padding": null,
            "grid_auto_rows": null,
            "grid_gap": null,
            "max_width": null,
            "order": null,
            "_view_module_version": "1.2.0",
            "grid_template_areas": null,
            "object_position": null,
            "object_fit": null,
            "grid_auto_columns": null,
            "margin": null,
            "display": null,
            "left": null
          }
        },
        "ec741862be42437696d7ab223874f7ba": {
          "model_module": "@jupyter-widgets/controls",
          "model_name": "FloatProgressModel",
          "state": {
            "_view_name": "ProgressView",
            "style": "IPY_MODEL_b94880161a4749c3bb5441c89551d2dc",
            "_dom_classes": [],
            "description": "100%",
            "_model_name": "FloatProgressModel",
            "bar_style": "success",
            "max": 8189,
            "_view_module": "@jupyter-widgets/controls",
            "_model_module_version": "1.5.0",
            "value": 8189,
            "_view_count": null,
            "_view_module_version": "1.5.0",
            "orientation": "horizontal",
            "min": 0,
            "description_tooltip": null,
            "_model_module": "@jupyter-widgets/controls",
            "layout": "IPY_MODEL_abbf3191e2b941deaaaab9e0570edaf5"
          }
        },
        "b8e46035e6fc4dd0a7750f983ccb420c": {
          "model_module": "@jupyter-widgets/controls",
          "model_name": "HTMLModel",
          "state": {
            "_view_name": "HTMLView",
            "style": "IPY_MODEL_045bf897eb5c466e94fa8a3ba2b49461",
            "_dom_classes": [],
            "description": "",
            "_model_name": "HTMLModel",
            "placeholder": "​",
            "_view_module": "@jupyter-widgets/controls",
            "_model_module_version": "1.5.0",
            "value": " 8189/8189 [29:00&lt;00:00,  4.71it/s]",
            "_view_count": null,
            "_view_module_version": "1.5.0",
            "description_tooltip": null,
            "_model_module": "@jupyter-widgets/controls",
            "layout": "IPY_MODEL_febbfc8179d14d6499c99fc91433cdd1"
          }
        },
        "b94880161a4749c3bb5441c89551d2dc": {
          "model_module": "@jupyter-widgets/controls",
          "model_name": "ProgressStyleModel",
          "state": {
            "_view_name": "StyleView",
            "_model_name": "ProgressStyleModel",
            "description_width": "initial",
            "_view_module": "@jupyter-widgets/base",
            "_model_module_version": "1.5.0",
            "_view_count": null,
            "_view_module_version": "1.2.0",
            "bar_color": null,
            "_model_module": "@jupyter-widgets/controls"
          }
        },
        "abbf3191e2b941deaaaab9e0570edaf5": {
          "model_module": "@jupyter-widgets/base",
          "model_name": "LayoutModel",
          "state": {
            "_view_name": "LayoutView",
            "grid_template_rows": null,
            "right": null,
            "justify_content": null,
            "_view_module": "@jupyter-widgets/base",
            "overflow": null,
            "_model_module_version": "1.2.0",
            "_view_count": null,
            "flex_flow": null,
            "width": null,
            "min_width": null,
            "border": null,
            "align_items": null,
            "bottom": null,
            "_model_module": "@jupyter-widgets/base",
            "top": null,
            "grid_column": null,
            "overflow_y": null,
            "overflow_x": null,
            "grid_auto_flow": null,
            "grid_area": null,
            "grid_template_columns": null,
            "flex": null,
            "_model_name": "LayoutModel",
            "justify_items": null,
            "grid_row": null,
            "max_height": null,
            "align_content": null,
            "visibility": null,
            "align_self": null,
            "height": null,
            "min_height": null,
            "padding": null,
            "grid_auto_rows": null,
            "grid_gap": null,
            "max_width": null,
            "order": null,
            "_view_module_version": "1.2.0",
            "grid_template_areas": null,
            "object_position": null,
            "object_fit": null,
            "grid_auto_columns": null,
            "margin": null,
            "display": null,
            "left": null
          }
        },
        "045bf897eb5c466e94fa8a3ba2b49461": {
          "model_module": "@jupyter-widgets/controls",
          "model_name": "DescriptionStyleModel",
          "state": {
            "_view_name": "StyleView",
            "_model_name": "DescriptionStyleModel",
            "description_width": "",
            "_view_module": "@jupyter-widgets/base",
            "_model_module_version": "1.5.0",
            "_view_count": null,
            "_view_module_version": "1.2.0",
            "_model_module": "@jupyter-widgets/controls"
          }
        },
        "febbfc8179d14d6499c99fc91433cdd1": {
          "model_module": "@jupyter-widgets/base",
          "model_name": "LayoutModel",
          "state": {
            "_view_name": "LayoutView",
            "grid_template_rows": null,
            "right": null,
            "justify_content": null,
            "_view_module": "@jupyter-widgets/base",
            "overflow": null,
            "_model_module_version": "1.2.0",
            "_view_count": null,
            "flex_flow": null,
            "width": null,
            "min_width": null,
            "border": null,
            "align_items": null,
            "bottom": null,
            "_model_module": "@jupyter-widgets/base",
            "top": null,
            "grid_column": null,
            "overflow_y": null,
            "overflow_x": null,
            "grid_auto_flow": null,
            "grid_area": null,
            "grid_template_columns": null,
            "flex": null,
            "_model_name": "LayoutModel",
            "justify_items": null,
            "grid_row": null,
            "max_height": null,
            "align_content": null,
            "visibility": null,
            "align_self": null,
            "height": null,
            "min_height": null,
            "padding": null,
            "grid_auto_rows": null,
            "grid_gap": null,
            "max_width": null,
            "order": null,
            "_view_module_version": "1.2.0",
            "grid_template_areas": null,
            "object_position": null,
            "object_fit": null,
            "grid_auto_columns": null,
            "margin": null,
            "display": null,
            "left": null
          }
        }
      }
    }
  },
  "cells": [
    {
      "cell_type": "markdown",
      "metadata": {
        "id": "view-in-github",
        "colab_type": "text"
      },
      "source": [
        "<a href=\"https://colab.research.google.com/github/harsh-agar/E-Net/blob/master/iNNvestigate.ipynb\" target=\"_parent\"><img src=\"https://colab.research.google.com/assets/colab-badge.svg\" alt=\"Open In Colab\"/></a>"
      ]
    },
    {
      "cell_type": "code",
      "metadata": {
        "id": "988cBtGNytlY"
      },
      "source": [
        "import os\r\n",
        "import cv2\r\n",
        "from tqdm import tqdm_notebook\r\n",
        "import scipy.io as io"
      ],
      "execution_count": 1,
      "outputs": []
    },
    {
      "cell_type": "code",
      "metadata": {
        "colab": {
          "base_uri": "https://localhost:8080/"
        },
        "id": "hVi_UsLM6If1",
        "outputId": "8de9535b-cb35-4f61-8ef4-8298edfe935f"
      },
      "source": [
        "from google.colab import drive\n",
        "drive.mount('/content/drive')"
      ],
      "execution_count": 2,
      "outputs": [
        {
          "output_type": "stream",
          "text": [
            "Mounted at /content/drive\n"
          ],
          "name": "stdout"
        }
      ]
    },
    {
      "cell_type": "code",
      "metadata": {
        "id": "tWOGwjTY6JYv"
      },
      "source": [
        "!wget -P '/content/drive/MyDrive/iNNvestigate' -c \"https://www.robots.ox.ac.uk/~vgg/data/flowers/102/102flowers.tgz\"\r\n",
        "!ls '/content/drive/MyDrive/iNNvestigate/'\r\n",
        "!tar -xvzf 'r/content/drive/MyDrive/iNNvestigate/102flowers.tgz' -C '/content/drive/MyDrive/iNNvestigate'"
      ],
      "execution_count": null,
      "outputs": []
    },
    {
      "cell_type": "code",
      "metadata": {
        "colab": {
          "base_uri": "https://localhost:8080/"
        },
        "id": "C0QyaRyivArV",
        "outputId": "10ff8665-dc12-49f4-b7fa-03db5cb22bd4"
      },
      "source": [
        "!ls /content/drive/MyDrive/iNNvestigate"
      ],
      "execution_count": null,
      "outputs": [
        {
          "output_type": "stream",
          "text": [
            "102flowers.tgz\tdataset  imagelabels.mat  jpg\n"
          ],
          "name": "stdout"
        }
      ]
    },
    {
      "cell_type": "code",
      "metadata": {
        "colab": {
          "base_uri": "https://localhost:8080/"
        },
        "id": "HPrmGreD8SD8",
        "outputId": "7f334997-80df-435f-eb4e-004457f18f6a"
      },
      "source": [
        "label_mat = io.loadmat('/content/drive/MyDrive/iNNvestigate/imagelabels.mat')\r\n",
        "len(label_mat['labels'][0])"
      ],
      "execution_count": null,
      "outputs": [
        {
          "output_type": "execute_result",
          "data": {
            "text/plain": [
              "8189"
            ]
          },
          "metadata": {
            "tags": []
          },
          "execution_count": 10
        }
      ]
    },
    {
      "cell_type": "code",
      "metadata": {
        "colab": {
          "base_uri": "https://localhost:8080/",
          "height": 116,
          "referenced_widgets": [
            "62f9de069211442e877c10bb3f6f796f",
            "97a3e86fe68e4aa784d93785e036000e",
            "ec741862be42437696d7ab223874f7ba",
            "b8e46035e6fc4dd0a7750f983ccb420c",
            "b94880161a4749c3bb5441c89551d2dc",
            "abbf3191e2b941deaaaab9e0570edaf5",
            "045bf897eb5c466e94fa8a3ba2b49461",
            "febbfc8179d14d6499c99fc91433cdd1"
          ]
        },
        "id": "5o4m18ow-bV2",
        "outputId": "1720cdfc-9d3c-4bbf-b0ea-ed401d172255"
      },
      "source": [
        "img_names = os.listdir('/content/drive/MyDrive/iNNvestigate/jpg/')\r\n",
        "img_names.sort()\r\n",
        "path = '/content/drive/MyDrive/iNNvestigate/dataset/'\r\n",
        "for i in tqdm_notebook(range(len(label_mat['labels'][0]))):\r\n",
        "  img = cv2.imread('/content/drive/MyDrive/iNNvestigate/jpg/'+img_names[i])\r\n",
        "  if i%5==0:\r\n",
        "    folder_path = path+'val/'+str(label_mat['labels'][0][i])\r\n",
        "  elif i%5==1:\r\n",
        "    folder_path = path+'test/'+str(label_mat['labels'][0][i])\r\n",
        "  else:\r\n",
        "    folder_path = path+'train/'+str(label_mat['labels'][0][i])\r\n",
        "  if not os.path.exists(folder_path):\r\n",
        "    os.makedirs(folder_path)\r\n",
        "  cv2.imwrite(folder_path+'/'+img_names[i], img) "
      ],
      "execution_count": null,
      "outputs": [
        {
          "output_type": "stream",
          "text": [
            "/usr/local/lib/python3.6/dist-packages/ipykernel_launcher.py:4: TqdmDeprecationWarning: This function will be removed in tqdm==5.0.0\n",
            "Please use `tqdm.notebook.tqdm` instead of `tqdm.tqdm_notebook`\n",
            "  after removing the cwd from sys.path.\n"
          ],
          "name": "stderr"
        },
        {
          "output_type": "display_data",
          "data": {
            "application/vnd.jupyter.widget-view+json": {
              "model_id": "62f9de069211442e877c10bb3f6f796f",
              "version_minor": 0,
              "version_major": 2
            },
            "text/plain": [
              "HBox(children=(FloatProgress(value=0.0, max=8189.0), HTML(value='')))"
            ]
          },
          "metadata": {
            "tags": []
          }
        },
        {
          "output_type": "stream",
          "text": [
            "\n"
          ],
          "name": "stdout"
        }
      ]
    },
    {
      "cell_type": "code",
      "metadata": {
        "colab": {
          "base_uri": "https://localhost:8080/"
        },
        "id": "aHYBhorJ69pm",
        "outputId": "011a5aa6-2da3-45ef-f1f6-44246c148213"
      },
      "source": [
        "from tensorflow.keras.applications import vgg16\r\n",
        "import keras\r\n",
        "from tensorflow.keras import Sequential\r\n",
        "from tensorflow.keras.layers import Dense, Conv2D, MaxPool2D , Flatten, Dropout\r\n",
        "from tensorflow.keras.preprocessing.image import ImageDataGenerator\r\n",
        "import numpy as np\r\n",
        "\r\n",
        "image_size=224\r\n",
        "\r\n",
        "vgg_conv = vgg16.VGG16(weights='imagenet', include_top=False, input_shape=(image_size, image_size, 3))\r\n",
        "\r\n",
        "for layer in vgg_conv.layers[:]:\r\n",
        "  layer.trainable = False\r\n",
        "for layer in vgg_conv.layers:\r\n",
        "  print(layer, layer.trainable)\r\n",
        "\r\n",
        "# Create the model\r\n",
        "model = Sequential()\r\n",
        "\r\n",
        "# Add the vgg convolutional base model\r\n",
        "model.add(vgg_conv)\r\n",
        "\r\n",
        "# Add new layers\r\n",
        "model.add(Flatten())\r\n",
        "model.add(Dense(1024, activation='relu'))\r\n",
        "model.add(Dropout(0.5))\r\n",
        "model.add(Dense(102, activation='softmax'))\r\n",
        "\r\n",
        "# Show a summary of the model. Check the number of trainable parameters\r\n",
        "model.summary()"
      ],
      "execution_count": 3,
      "outputs": [
        {
          "output_type": "stream",
          "text": [
            "Downloading data from https://storage.googleapis.com/tensorflow/keras-applications/vgg16/vgg16_weights_tf_dim_ordering_tf_kernels_notop.h5\n",
            "58892288/58889256 [==============================] - 0s 0us/step\n",
            "<tensorflow.python.keras.engine.input_layer.InputLayer object at 0x7f2d1e2a4f98> False\n",
            "<tensorflow.python.keras.layers.convolutional.Conv2D object at 0x7f2d10fd5eb8> False\n",
            "<tensorflow.python.keras.layers.convolutional.Conv2D object at 0x7f2d10fd79e8> False\n",
            "<tensorflow.python.keras.layers.pooling.MaxPooling2D object at 0x7f2cd0578a20> False\n",
            "<tensorflow.python.keras.layers.convolutional.Conv2D object at 0x7f2cd0583748> False\n",
            "<tensorflow.python.keras.layers.convolutional.Conv2D object at 0x7f2cd0588908> False\n",
            "<tensorflow.python.keras.layers.pooling.MaxPooling2D object at 0x7f2cd0592160> False\n",
            "<tensorflow.python.keras.layers.convolutional.Conv2D object at 0x7f2cd0583be0> False\n",
            "<tensorflow.python.keras.layers.convolutional.Conv2D object at 0x7f2cd0598f28> False\n",
            "<tensorflow.python.keras.layers.convolutional.Conv2D object at 0x7f2cd059dfd0> False\n",
            "<tensorflow.python.keras.layers.pooling.MaxPooling2D object at 0x7f2cd05a3160> False\n",
            "<tensorflow.python.keras.layers.convolutional.Conv2D object at 0x7f2cd0598b38> False\n",
            "<tensorflow.python.keras.layers.convolutional.Conv2D object at 0x7f2cd05aba90> False\n",
            "<tensorflow.python.keras.layers.convolutional.Conv2D object at 0x7f2cd05b0f98> False\n",
            "<tensorflow.python.keras.layers.pooling.MaxPooling2D object at 0x7f2cd05374e0> False\n",
            "<tensorflow.python.keras.layers.convolutional.Conv2D object at 0x7f2cd053b438> False\n",
            "<tensorflow.python.keras.layers.convolutional.Conv2D object at 0x7f2cd05423c8> False\n",
            "<tensorflow.python.keras.layers.convolutional.Conv2D object at 0x7f2cd0537a58> False\n",
            "<tensorflow.python.keras.layers.pooling.MaxPooling2D object at 0x7f2cd0542f98> False\n",
            "Model: \"sequential\"\n",
            "_________________________________________________________________\n",
            "Layer (type)                 Output Shape              Param #   \n",
            "=================================================================\n",
            "vgg16 (Functional)           (None, 7, 7, 512)         14714688  \n",
            "_________________________________________________________________\n",
            "flatten (Flatten)            (None, 25088)             0         \n",
            "_________________________________________________________________\n",
            "dense (Dense)                (None, 1024)              25691136  \n",
            "_________________________________________________________________\n",
            "dropout (Dropout)            (None, 1024)              0         \n",
            "_________________________________________________________________\n",
            "dense_1 (Dense)              (None, 102)               104550    \n",
            "=================================================================\n",
            "Total params: 40,510,374\n",
            "Trainable params: 25,795,686\n",
            "Non-trainable params: 14,714,688\n",
            "_________________________________________________________________\n"
          ],
          "name": "stdout"
        }
      ]
    },
    {
      "cell_type": "code",
      "metadata": {
        "id": "-nWcqLSXxHvM"
      },
      "source": [
        "from tensorflow.keras.optimizers import RMSprop\r\n",
        "# # Configure the model for training\r\n",
        "model.compile(loss='categorical_crossentropy',\r\n",
        "              optimizer=RMSprop(lr=1e-4),\r\n",
        "              metrics=['categorical_accuracy'])"
      ],
      "execution_count": 4,
      "outputs": []
    },
    {
      "cell_type": "code",
      "metadata": {
        "colab": {
          "base_uri": "https://localhost:8080/"
        },
        "id": "3X37GkaT8R_2",
        "outputId": "f62de9dd-2f0f-46e0-a890-b71f706df2c5"
      },
      "source": [
        "# Load the normalized images\r\n",
        "train_datagen = ImageDataGenerator(rescale=1./255)\r\n",
        "validation_datagen = ImageDataGenerator(rescale=1./255)\r\n",
        "\r\n",
        "# Change the batchsize according to your system RAM\r\n",
        "train_batchsize = 64\r\n",
        "val_batchsize = 64\r\n",
        "\r\n",
        "train_dir = '/content/drive/MyDrive/iNNvestigate/dataset/train'\r\n",
        "val_dir = '/content/drive/MyDrive/iNNvestigate/dataset/val'\r\n",
        "\r\n",
        "# Data generator for training data\r\n",
        "train_generator = train_datagen.flow_from_directory(\r\n",
        "        train_dir,\r\n",
        "        target_size=(image_size, image_size),\r\n",
        "        batch_size=train_batchsize,\r\n",
        "        class_mode='categorical')\r\n",
        "\r\n",
        "# Data generator for validation data\r\n",
        "validation_generator = validation_datagen.flow_from_directory(\r\n",
        "        val_dir,\r\n",
        "        target_size=(image_size, image_size),\r\n",
        "        batch_size=val_batchsize,\r\n",
        "        class_mode='categorical',\r\n",
        "        shuffle=False)"
      ],
      "execution_count": 10,
      "outputs": [
        {
          "output_type": "stream",
          "text": [
            "Found 4913 images belonging to 102 classes.\n",
            "Found 1638 images belonging to 102 classes.\n"
          ],
          "name": "stdout"
        }
      ]
    },
    {
      "cell_type": "code",
      "metadata": {
        "colab": {
          "base_uri": "https://localhost:8080/"
        },
        "id": "dbzSYE-ND27P",
        "outputId": "36f72a77-0785-4de7-cc32-8ba4cc018c3e"
      },
      "source": [
        "train_generator.samples/train_generator.batch_size"
      ],
      "execution_count": 11,
      "outputs": [
        {
          "output_type": "execute_result",
          "data": {
            "text/plain": [
              "76.765625"
            ]
          },
          "metadata": {
            "tags": []
          },
          "execution_count": 11
        }
      ]
    },
    {
      "cell_type": "code",
      "metadata": {
        "colab": {
          "base_uri": "https://localhost:8080/"
        },
        "id": "Ah64gJvGEDhv",
        "outputId": "8fbeec48-f0cc-4ad5-ebab-e664136355e1"
      },
      "source": [
        "import os\r\n",
        "fd = os.open(os.devnull, os.O_RDWR)\r\n",
        "# NB: even if stdin is closed, fd >= 0\r\n",
        "os.dup2(fd, 1)\r\n",
        "os.dup2(fd, 2)\r\n",
        "if fd > 2:\r\n",
        "    os.close(fd)\r\n",
        "\r\n",
        "callbacks = [\r\n",
        "        # saving model weights at checkpoints\r\n",
        "        keras.callbacks.ModelCheckpoint(\r\n",
        "            filepath          = os.path.join('/content/drive/MyDrive/iNNvestigate/models/','otcmodel_{epoch}.h5'),\r\n",
        "            save_best_only    = True,\r\n",
        "            monitor           = 'val_loss',\r\n",
        "            save_weights_only = True,\r\n",
        "            verbose           = 1\r\n",
        "        )]\r\n",
        "\r\n",
        "# Train the model\r\n",
        "history = model.fit(\r\n",
        "      train_generator,\r\n",
        "      steps_per_epoch=\r\n",
        "         train_generator.samples/train_generator.batch_size,\r\n",
        "      epochs=20,\r\n",
        "      validation_data=validation_generator, \r\n",
        "      validation_steps=\r\n",
        "         validation_generator.samples/validation_generator.batch_size,\r\n",
        "      verbose=1,\r\n",
        "      callbacks=callbacks,\r\n",
        ")\r\n"
      ],
      "execution_count": 12,
      "outputs": [
        {
          "output_type": "stream",
          "text": [
            "Epoch 1/20\n",
            "76/76 [==============================] - 56s 728ms/step - loss: 4.3779 - categorical_accuracy: 0.1057 - val_loss: 2.8368 - val_categorical_accuracy: 0.3980\n",
            "\n",
            "Epoch 00001: val_loss improved from inf to 2.83685, saving model to /content/drive/MyDrive/iNNvestigate/models/otcmodel_1.h5\n",
            "Epoch 2/20\n",
            "76/76 [==============================] - 47s 613ms/step - loss: 2.5539 - categorical_accuracy: 0.4203 - val_loss: 2.0089 - val_categorical_accuracy: 0.5611\n",
            "\n",
            "Epoch 00002: val_loss improved from 2.83685 to 2.00888, saving model to /content/drive/MyDrive/iNNvestigate/models/otcmodel_2.h5\n",
            "Epoch 3/20\n",
            "76/76 [==============================] - 47s 617ms/step - loss: 1.7097 - categorical_accuracy: 0.5953 - val_loss: 1.5611 - val_categorical_accuracy: 0.6435\n",
            "\n",
            "Epoch 00003: val_loss improved from 2.00888 to 1.56105, saving model to /content/drive/MyDrive/iNNvestigate/models/otcmodel_3.h5\n",
            "Epoch 4/20\n",
            "76/76 [==============================] - 47s 616ms/step - loss: 1.1092 - categorical_accuracy: 0.7438 - val_loss: 1.2946 - val_categorical_accuracy: 0.7137\n",
            "\n",
            "Epoch 00004: val_loss improved from 1.56105 to 1.29458, saving model to /content/drive/MyDrive/iNNvestigate/models/otcmodel_4.h5\n",
            "Epoch 5/20\n",
            "76/76 [==============================] - 48s 623ms/step - loss: 0.7425 - categorical_accuracy: 0.8429 - val_loss: 1.2043 - val_categorical_accuracy: 0.7033\n",
            "\n",
            "Epoch 00005: val_loss improved from 1.29458 to 1.20430, saving model to /content/drive/MyDrive/iNNvestigate/models/otcmodel_5.h5\n",
            "Epoch 6/20\n",
            "76/76 [==============================] - 47s 616ms/step - loss: 0.5574 - categorical_accuracy: 0.8748 - val_loss: 1.0232 - val_categorical_accuracy: 0.7564\n",
            "\n",
            "Epoch 00006: val_loss improved from 1.20430 to 1.02317, saving model to /content/drive/MyDrive/iNNvestigate/models/otcmodel_6.h5\n",
            "Epoch 7/20\n",
            "76/76 [==============================] - 48s 624ms/step - loss: 0.3647 - categorical_accuracy: 0.9356 - val_loss: 0.9438 - val_categorical_accuracy: 0.7680\n",
            "\n",
            "Epoch 00007: val_loss improved from 1.02317 to 0.94376, saving model to /content/drive/MyDrive/iNNvestigate/models/otcmodel_7.h5\n",
            "Epoch 8/20\n",
            "76/76 [==============================] - 48s 624ms/step - loss: 0.2549 - categorical_accuracy: 0.9591 - val_loss: 0.9133 - val_categorical_accuracy: 0.7662\n",
            "\n",
            "Epoch 00008: val_loss improved from 0.94376 to 0.91335, saving model to /content/drive/MyDrive/iNNvestigate/models/otcmodel_8.h5\n",
            "Epoch 9/20\n",
            "76/76 [==============================] - 48s 624ms/step - loss: 0.1930 - categorical_accuracy: 0.9702 - val_loss: 0.8914 - val_categorical_accuracy: 0.7698\n",
            "\n",
            "Epoch 00009: val_loss improved from 0.91335 to 0.89140, saving model to /content/drive/MyDrive/iNNvestigate/models/otcmodel_9.h5\n",
            "Epoch 10/20\n",
            "76/76 [==============================] - 47s 617ms/step - loss: 0.1314 - categorical_accuracy: 0.9836 - val_loss: 0.8138 - val_categorical_accuracy: 0.7894\n",
            "\n",
            "Epoch 00010: val_loss improved from 0.89140 to 0.81381, saving model to /content/drive/MyDrive/iNNvestigate/models/otcmodel_10.h5\n",
            "Epoch 11/20\n",
            "76/76 [==============================] - 48s 624ms/step - loss: 0.0930 - categorical_accuracy: 0.9840 - val_loss: 0.8139 - val_categorical_accuracy: 0.7863\n",
            "\n",
            "Epoch 00011: val_loss did not improve from 0.81381\n",
            "Epoch 12/20\n",
            "76/76 [==============================] - 47s 611ms/step - loss: 0.0769 - categorical_accuracy: 0.9895 - val_loss: 0.7825 - val_categorical_accuracy: 0.7961\n",
            "\n",
            "Epoch 00012: val_loss improved from 0.81381 to 0.78249, saving model to /content/drive/MyDrive/iNNvestigate/models/otcmodel_12.h5\n",
            "Epoch 13/20\n",
            "76/76 [==============================] - 47s 618ms/step - loss: 0.0673 - categorical_accuracy: 0.9905 - val_loss: 0.8678 - val_categorical_accuracy: 0.7601\n",
            "\n",
            "Epoch 00013: val_loss did not improve from 0.78249\n",
            "Epoch 14/20\n",
            "76/76 [==============================] - 47s 611ms/step - loss: 0.0502 - categorical_accuracy: 0.9949 - val_loss: 0.7589 - val_categorical_accuracy: 0.8016\n",
            "\n",
            "Epoch 00014: val_loss improved from 0.78249 to 0.75886, saving model to /content/drive/MyDrive/iNNvestigate/models/otcmodel_14.h5\n",
            "Epoch 15/20\n",
            "76/76 [==============================] - 47s 618ms/step - loss: 0.0419 - categorical_accuracy: 0.9947 - val_loss: 0.8112 - val_categorical_accuracy: 0.7821\n",
            "\n",
            "Epoch 00015: val_loss did not improve from 0.75886\n",
            "Epoch 16/20\n",
            "76/76 [==============================] - 47s 613ms/step - loss: 0.0342 - categorical_accuracy: 0.9948 - val_loss: 0.7263 - val_categorical_accuracy: 0.8059\n",
            "\n",
            "Epoch 00016: val_loss improved from 0.75886 to 0.72627, saving model to /content/drive/MyDrive/iNNvestigate/models/otcmodel_16.h5\n",
            "Epoch 17/20\n",
            "76/76 [==============================] - 47s 617ms/step - loss: 0.0340 - categorical_accuracy: 0.9958 - val_loss: 0.7216 - val_categorical_accuracy: 0.8107\n",
            "\n",
            "Epoch 00017: val_loss improved from 0.72627 to 0.72157, saving model to /content/drive/MyDrive/iNNvestigate/models/otcmodel_17.h5\n",
            "Epoch 18/20\n",
            "76/76 [==============================] - 48s 625ms/step - loss: 0.0225 - categorical_accuracy: 0.9977 - val_loss: 0.8429 - val_categorical_accuracy: 0.7753\n",
            "\n",
            "Epoch 00018: val_loss did not improve from 0.72157\n",
            "Epoch 19/20\n",
            "76/76 [==============================] - 47s 615ms/step - loss: 0.0226 - categorical_accuracy: 0.9965 - val_loss: 0.7672 - val_categorical_accuracy: 0.8010\n",
            "\n",
            "Epoch 00019: val_loss did not improve from 0.72157\n",
            "Epoch 20/20\n",
            "76/76 [==============================] - 47s 614ms/step - loss: 0.0208 - categorical_accuracy: 0.9973 - val_loss: 0.7051 - val_categorical_accuracy: 0.8089\n",
            "\n",
            "Epoch 00020: val_loss improved from 0.72157 to 0.70511, saving model to /content/drive/MyDrive/iNNvestigate/models/otcmodel_20.h5\n"
          ],
          "name": "stdout"
        }
      ]
    },
    {
      "cell_type": "code",
      "metadata": {
        "id": "pqHvseYABusy",
        "outputId": "84595f9a-f00a-4cc5-f08b-70a2caf1197c",
        "colab": {
          "base_uri": "https://localhost:8080/",
          "height": 273
        }
      },
      "source": [
        "pip install --upgrade pillow"
      ],
      "execution_count": 1,
      "outputs": [
        {
          "output_type": "stream",
          "text": [
            "Collecting pillow\n",
            "\u001b[?25l  Downloading https://files.pythonhosted.org/packages/b6/c0/442d9d87e0da00bf856ef6dd4916f84a2d710b5f1a367d42d7f3c4e99a6c/Pillow-8.1.0-cp36-cp36m-manylinux1_x86_64.whl (2.2MB)\n",
            "\u001b[K     |████████████████████████████████| 2.2MB 17.6MB/s \n",
            "\u001b[31mERROR: albumentations 0.1.12 has requirement imgaug<0.2.7,>=0.2.5, but you'll have imgaug 0.2.9 which is incompatible.\u001b[0m\n",
            "\u001b[?25hInstalling collected packages: pillow\n",
            "  Found existing installation: Pillow 7.0.0\n",
            "    Uninstalling Pillow-7.0.0:\n",
            "      Successfully uninstalled Pillow-7.0.0\n",
            "Successfully installed pillow-8.1.0\n"
          ],
          "name": "stdout"
        },
        {
          "output_type": "display_data",
          "data": {
            "application/vnd.colab-display-data+json": {
              "pip_warning": {
                "packages": [
                  "PIL"
                ]
              }
            }
          },
          "metadata": {
            "tags": []
          }
        }
      ]
    },
    {
      "cell_type": "code",
      "metadata": {
        "id": "J0DpQ4y8-cgn",
        "outputId": "e03a2259-712c-4b75-d296-5d24b0879941",
        "colab": {
          "base_uri": "https://localhost:8080/"
        }
      },
      "source": [
        "# all_files = os.listdir('/content/drive/MyDrive/iNNvestigate/models/')\r\n",
        "\r\n",
        "all_ckpts = [file for file in os.listdir('/content/drive/MyDrive/iNNvestigate/models/') if ('_' in file) and ('.h5' in file)]\r\n",
        "ckpt_epochs = sorted(\r\n",
        "    [int(s) for ckpt_name in all_ckpts for s in ckpt_name.replace('_', '.').split('.') if s.isdigit()])\r\n",
        "ckpt_epoch = ckpt_epochs[-1]\r\n",
        "epoch = ckpt_epoch\r\n",
        "\r\n",
        "print('evaluating epoch %d' % ckpt_epoch)\r\n",
        "ckpt = [ckpt for ckpt in all_ckpts if str(ckpt_epoch) in ckpt]\r\n",
        "ckpt = ckpt[0]  # maybe otcmodel_5, otcmodel_50, otcmodel_51, ... in ckpt, if epoch = 5\r\n",
        "model.load_weights(os.path.join('/content/drive/MyDrive/iNNvestigate/models/', ckpt))\r\n",
        "\r\n",
        "\r\n",
        "# # Match file name with regular expression and extract epoch number.\r\n",
        "# checkpoint_file_regex = re.compile(r'otcmodel_(?P<i>\\d+).*\\.h5')\r\n",
        "# checkpoint_files = {int(m.groupdict()['i']): m.string for f in all_files if (m := re.fullmatch(checkpoint_file_regex, f))}\r\n",
        "# # Get latest checkpoint file with best model weights.\r\n",
        "# latest_checkpoint = max(checkpoint_files.keys())\r\n",
        "# latest_checkpoint_file = checkpoint_files[latest_checkpoint]\r\n",
        "# # Load the model weights.\r\n",
        "# print_blue(f'Evaluating epoch {latest_checkpoint}')\r\n",
        "# model.load_weights(path.join(init_dir, 'model_weights', latest_checkpoint_file))\r\n",
        "\r\n",
        "# # Run Inference.\r\n",
        "# pred_vector = model.predict(batched_dataset)  # TODO progress bar\r\n"
      ],
      "execution_count": 5,
      "outputs": [
        {
          "output_type": "stream",
          "text": [
            "evaluating epoch 20\n"
          ],
          "name": "stdout"
        }
      ]
    },
    {
      "cell_type": "code",
      "metadata": {
        "id": "FYwURXIUCD0c",
        "outputId": "9459c90a-d154-4638-b473-47526d567c2a",
        "colab": {
          "base_uri": "https://localhost:8080/"
        }
      },
      "source": [
        "import os\r\n",
        "try:\r\n",
        "    # %tensorflow_version only exists in Colab.\r\n",
        "    %tensorflow_version 1.x\r\n",
        "    IS_COLAB = True\r\n",
        "    if not os.path.exists('/content/drive/MyDrive/iNNvestigate/innvestigate'):\r\n",
        "        !git clone https://github.com/albermax/innvestigate.git /content/drive/MyDrive/iNNvestigate/innvestigate\r\n",
        "    !pip install /content/drive/MyDrive/iNNvestigate/innvestigate --no-deps\r\n",
        "    # %cd /content/innvestigate/examples/notebooks\r\n",
        "except Exception:\r\n",
        "    IS_COLAB = False"
      ],
      "execution_count": 9,
      "outputs": [
        {
          "output_type": "stream",
          "text": [
            "TensorFlow is already loaded. Please restart the runtime to change versions.\n",
            "Cloning into '/content/drive/MyDrive/iNNvestigate/innvestigate'...\n",
            "remote: Enumerating objects: 349, done.\u001b[K\n",
            "remote: Counting objects: 100% (349/349), done.\u001b[K\n",
            "remote: Compressing objects: 100% (213/213), done.\u001b[K\n",
            "remote: Total 5666 (delta 245), reused 219 (delta 132), pack-reused 5317\u001b[K\n",
            "Receiving objects: 100% (5666/5666), 41.31 MiB | 17.72 MiB/s, done.\n",
            "Resolving deltas: 100% (3970/3970), done.\n",
            "Processing ./drive/MyDrive/iNNvestigate/innvestigate\n",
            "Building wheels for collected packages: innvestigate\n",
            "  Building wheel for innvestigate (setup.py) ... \u001b[?25l\u001b[?25hdone\n",
            "  Created wheel for innvestigate: filename=innvestigate-1.0.9-cp36-none-any.whl size=99902 sha256=db4b55184b47aa433c0826153bb0b3a604dfcff0f2278bdd1f68471e9499dd16\n",
            "  Stored in directory: /tmp/pip-ephem-wheel-cache-0uvhrynt/wheels/ed/6a/81/273f7c945338bda571202a81a08fd5224b3faa94490ba35401\n",
            "Successfully built innvestigate\n",
            "Installing collected packages: innvestigate\n",
            "Successfully installed innvestigate-1.0.9\n"
          ],
          "name": "stdout"
        }
      ]
    },
    {
      "cell_type": "code",
      "metadata": {
        "id": "r23YVBOaDIFv",
        "outputId": "4d16c832-08b7-428e-f26b-5a9e3e4447ba",
        "colab": {
          "base_uri": "https://localhost:8080/",
          "height": 761
        }
      },
      "source": [
        "!pip install keras==2.3.1\r\n",
        "import innvestigate\r\n",
        "import innvestigate.utils as iutils\r\n",
        "innvestigate.__version__"
      ],
      "execution_count": 11,
      "outputs": [
        {
          "output_type": "stream",
          "text": [
            "Collecting keras==2.3.1\n",
            "\u001b[?25l  Downloading https://files.pythonhosted.org/packages/ad/fd/6bfe87920d7f4fd475acd28500a42482b6b84479832bdc0fe9e589a60ceb/Keras-2.3.1-py2.py3-none-any.whl (377kB)\n",
            "\r\u001b[K     |▉                               | 10kB 28.1MB/s eta 0:00:01\r\u001b[K     |█▊                              | 20kB 31.1MB/s eta 0:00:01\r\u001b[K     |██▋                             | 30kB 20.9MB/s eta 0:00:01\r\u001b[K     |███▌                            | 40kB 17.2MB/s eta 0:00:01\r\u001b[K     |████▍                           | 51kB 12.9MB/s eta 0:00:01\r\u001b[K     |█████▏                          | 61kB 13.7MB/s eta 0:00:01\r\u001b[K     |██████                          | 71kB 13.2MB/s eta 0:00:01\r\u001b[K     |███████                         | 81kB 13.1MB/s eta 0:00:01\r\u001b[K     |███████▉                        | 92kB 13.0MB/s eta 0:00:01\r\u001b[K     |████████▊                       | 102kB 13.4MB/s eta 0:00:01\r\u001b[K     |█████████▌                      | 112kB 13.4MB/s eta 0:00:01\r\u001b[K     |██████████▍                     | 122kB 13.4MB/s eta 0:00:01\r\u001b[K     |███████████▎                    | 133kB 13.4MB/s eta 0:00:01\r\u001b[K     |████████████▏                   | 143kB 13.4MB/s eta 0:00:01\r\u001b[K     |█████████████                   | 153kB 13.4MB/s eta 0:00:01\r\u001b[K     |█████████████▉                  | 163kB 13.4MB/s eta 0:00:01\r\u001b[K     |██████████████▊                 | 174kB 13.4MB/s eta 0:00:01\r\u001b[K     |███████████████▋                | 184kB 13.4MB/s eta 0:00:01\r\u001b[K     |████████████████▌               | 194kB 13.4MB/s eta 0:00:01\r\u001b[K     |█████████████████▍              | 204kB 13.4MB/s eta 0:00:01\r\u001b[K     |██████████████████▏             | 215kB 13.4MB/s eta 0:00:01\r\u001b[K     |███████████████████             | 225kB 13.4MB/s eta 0:00:01\r\u001b[K     |████████████████████            | 235kB 13.4MB/s eta 0:00:01\r\u001b[K     |████████████████████▉           | 245kB 13.4MB/s eta 0:00:01\r\u001b[K     |█████████████████████▊          | 256kB 13.4MB/s eta 0:00:01\r\u001b[K     |██████████████████████▌         | 266kB 13.4MB/s eta 0:00:01\r\u001b[K     |███████████████████████▍        | 276kB 13.4MB/s eta 0:00:01\r\u001b[K     |████████████████████████▎       | 286kB 13.4MB/s eta 0:00:01\r\u001b[K     |█████████████████████████▏      | 296kB 13.4MB/s eta 0:00:01\r\u001b[K     |██████████████████████████      | 307kB 13.4MB/s eta 0:00:01\r\u001b[K     |██████████████████████████▉     | 317kB 13.4MB/s eta 0:00:01\r\u001b[K     |███████████████████████████▊    | 327kB 13.4MB/s eta 0:00:01\r\u001b[K     |████████████████████████████▋   | 337kB 13.4MB/s eta 0:00:01\r\u001b[K     |█████████████████████████████▌  | 348kB 13.4MB/s eta 0:00:01\r\u001b[K     |██████████████████████████████▍ | 358kB 13.4MB/s eta 0:00:01\r\u001b[K     |███████████████████████████████▏| 368kB 13.4MB/s eta 0:00:01\r\u001b[K     |████████████████████████████████| 378kB 13.4MB/s \n",
            "\u001b[?25hRequirement already satisfied: pyyaml in /usr/local/lib/python3.6/dist-packages (from keras==2.3.1) (3.13)\n",
            "Requirement already satisfied: scipy>=0.14 in /usr/local/lib/python3.6/dist-packages (from keras==2.3.1) (1.4.1)\n",
            "Requirement already satisfied: numpy>=1.9.1 in /usr/local/lib/python3.6/dist-packages (from keras==2.3.1) (1.19.4)\n",
            "Requirement already satisfied: six>=1.9.0 in /usr/local/lib/python3.6/dist-packages (from keras==2.3.1) (1.15.0)\n",
            "Collecting keras-applications>=1.0.6\n",
            "\u001b[?25l  Downloading https://files.pythonhosted.org/packages/71/e3/19762fdfc62877ae9102edf6342d71b28fbfd9dea3d2f96a882ce099b03f/Keras_Applications-1.0.8-py3-none-any.whl (50kB)\n",
            "\r\u001b[K     |██████▌                         | 10kB 34.5MB/s eta 0:00:01\r\u001b[K     |█████████████                   | 20kB 15.7MB/s eta 0:00:01\r\u001b[K     |███████████████████▍            | 30kB 21.1MB/s eta 0:00:01\r\u001b[K     |█████████████████████████▉      | 40kB 14.6MB/s eta 0:00:01\r\u001b[K     |████████████████████████████████| 51kB 6.7MB/s \n",
            "\u001b[?25hRequirement already satisfied: keras-preprocessing>=1.0.5 in /usr/local/lib/python3.6/dist-packages (from keras==2.3.1) (1.1.2)\n",
            "Requirement already satisfied: h5py in /usr/local/lib/python3.6/dist-packages (from keras==2.3.1) (2.10.0)\n",
            "\u001b[31mERROR: innvestigate 1.0.9 has requirement keras==2.2.4, but you'll have keras 2.3.1 which is incompatible.\u001b[0m\n",
            "Installing collected packages: keras-applications, keras\n",
            "  Found existing installation: Keras 2.4.3\n",
            "    Uninstalling Keras-2.4.3:\n",
            "      Successfully uninstalled Keras-2.4.3\n",
            "Successfully installed keras-2.3.1 keras-applications-1.0.8\n"
          ],
          "name": "stdout"
        },
        {
          "output_type": "display_data",
          "data": {
            "application/vnd.colab-display-data+json": {
              "pip_warning": {
                "packages": [
                  "keras"
                ]
              }
            }
          },
          "metadata": {
            "tags": []
          }
        },
        {
          "output_type": "error",
          "ename": "AttributeError",
          "evalue": "ignored",
          "traceback": [
            "\u001b[0;31m---------------------------------------------------------------------------\u001b[0m",
            "\u001b[0;31mAttributeError\u001b[0m                            Traceback (most recent call last)",
            "\u001b[0;32m<ipython-input-11-414175acebd1>\u001b[0m in \u001b[0;36m<module>\u001b[0;34m()\u001b[0m\n\u001b[1;32m      1\u001b[0m \u001b[0mget_ipython\u001b[0m\u001b[0;34m(\u001b[0m\u001b[0;34m)\u001b[0m\u001b[0;34m.\u001b[0m\u001b[0msystem\u001b[0m\u001b[0;34m(\u001b[0m\u001b[0;34m'pip install keras==2.3.1'\u001b[0m\u001b[0;34m)\u001b[0m\u001b[0;34m\u001b[0m\u001b[0;34m\u001b[0m\u001b[0m\n\u001b[0;32m----> 2\u001b[0;31m \u001b[0;32mimport\u001b[0m \u001b[0minnvestigate\u001b[0m\u001b[0;34m\u001b[0m\u001b[0;34m\u001b[0m\u001b[0m\n\u001b[0m\u001b[1;32m      3\u001b[0m \u001b[0;32mimport\u001b[0m \u001b[0minnvestigate\u001b[0m\u001b[0;34m.\u001b[0m\u001b[0mutils\u001b[0m \u001b[0;32mas\u001b[0m \u001b[0miutils\u001b[0m\u001b[0;34m\u001b[0m\u001b[0;34m\u001b[0m\u001b[0m\n\u001b[1;32m      4\u001b[0m \u001b[0minnvestigate\u001b[0m\u001b[0;34m.\u001b[0m\u001b[0m__version__\u001b[0m\u001b[0;34m\u001b[0m\u001b[0;34m\u001b[0m\u001b[0m\n",
            "\u001b[0;32m/usr/local/lib/python3.6/dist-packages/innvestigate/__init__.py\u001b[0m in \u001b[0;36m<module>\u001b[0;34m()\u001b[0m\n\u001b[1;32m      1\u001b[0m \u001b[0;34m\u001b[0m\u001b[0m\n\u001b[0;32m----> 2\u001b[0;31m \u001b[0;32mfrom\u001b[0m \u001b[0;34m.\u001b[0m \u001b[0;32mimport\u001b[0m \u001b[0manalyzer\u001b[0m\u001b[0;34m\u001b[0m\u001b[0;34m\u001b[0m\u001b[0m\n\u001b[0m\u001b[1;32m      3\u001b[0m \u001b[0;32mfrom\u001b[0m \u001b[0;34m.\u001b[0m\u001b[0manalyzer\u001b[0m \u001b[0;32mimport\u001b[0m \u001b[0mcreate_analyzer\u001b[0m\u001b[0;34m\u001b[0m\u001b[0;34m\u001b[0m\u001b[0m\n\u001b[1;32m      4\u001b[0m \u001b[0;32mfrom\u001b[0m \u001b[0;34m.\u001b[0m\u001b[0manalyzer\u001b[0m \u001b[0;32mimport\u001b[0m \u001b[0mNotAnalyzeableModelException\u001b[0m\u001b[0;34m\u001b[0m\u001b[0;34m\u001b[0m\u001b[0m\n\u001b[1;32m      5\u001b[0m \u001b[0;34m\u001b[0m\u001b[0m\n",
            "\u001b[0;32m/usr/local/lib/python3.6/dist-packages/innvestigate/analyzer/__init__.py\u001b[0m in \u001b[0;36m<module>\u001b[0;34m()\u001b[0m\n\u001b[1;32m     22\u001b[0m \u001b[0;32mfrom\u001b[0m \u001b[0;34m.\u001b[0m\u001b[0mpattern_based\u001b[0m \u001b[0;32mimport\u001b[0m \u001b[0mPatternNet\u001b[0m\u001b[0;34m\u001b[0m\u001b[0;34m\u001b[0m\u001b[0m\n\u001b[1;32m     23\u001b[0m \u001b[0;32mfrom\u001b[0m \u001b[0;34m.\u001b[0m\u001b[0mpattern_based\u001b[0m \u001b[0;32mimport\u001b[0m \u001b[0mPatternAttribution\u001b[0m\u001b[0;34m\u001b[0m\u001b[0;34m\u001b[0m\u001b[0m\n\u001b[0;32m---> 24\u001b[0;31m \u001b[0;32mfrom\u001b[0m \u001b[0;34m.\u001b[0m\u001b[0mrelevance_based\u001b[0m\u001b[0;34m.\u001b[0m\u001b[0mrelevance_analyzer\u001b[0m \u001b[0;32mimport\u001b[0m \u001b[0mBaselineLRPZ\u001b[0m\u001b[0;34m\u001b[0m\u001b[0;34m\u001b[0m\u001b[0m\n\u001b[0m\u001b[1;32m     25\u001b[0m \u001b[0;32mfrom\u001b[0m \u001b[0;34m.\u001b[0m\u001b[0mrelevance_based\u001b[0m\u001b[0;34m.\u001b[0m\u001b[0mrelevance_analyzer\u001b[0m \u001b[0;32mimport\u001b[0m \u001b[0mLRP\u001b[0m\u001b[0;34m\u001b[0m\u001b[0;34m\u001b[0m\u001b[0m\n\u001b[1;32m     26\u001b[0m \u001b[0;32mfrom\u001b[0m \u001b[0;34m.\u001b[0m\u001b[0mrelevance_based\u001b[0m\u001b[0;34m.\u001b[0m\u001b[0mrelevance_analyzer\u001b[0m \u001b[0;32mimport\u001b[0m \u001b[0mLRPZ\u001b[0m\u001b[0;34m\u001b[0m\u001b[0;34m\u001b[0m\u001b[0m\n",
            "\u001b[0;32m/usr/local/lib/python3.6/dist-packages/innvestigate/analyzer/relevance_based/relevance_analyzer.py\u001b[0m in \u001b[0;36m<module>\u001b[0;34m()\u001b[0m\n\u001b[1;32m     26\u001b[0m \u001b[0;32mfrom\u001b[0m \u001b[0minnvestigate\u001b[0m \u001b[0;32mimport\u001b[0m \u001b[0mlayers\u001b[0m \u001b[0;32mas\u001b[0m \u001b[0milayers\u001b[0m\u001b[0;34m\u001b[0m\u001b[0;34m\u001b[0m\u001b[0m\n\u001b[1;32m     27\u001b[0m \u001b[0;32mfrom\u001b[0m \u001b[0minnvestigate\u001b[0m \u001b[0;32mimport\u001b[0m \u001b[0mutils\u001b[0m \u001b[0;32mas\u001b[0m \u001b[0miutils\u001b[0m\u001b[0;34m\u001b[0m\u001b[0;34m\u001b[0m\u001b[0m\n\u001b[0;32m---> 28\u001b[0;31m \u001b[0;32mimport\u001b[0m \u001b[0minnvestigate\u001b[0m\u001b[0;34m.\u001b[0m\u001b[0mutils\u001b[0m\u001b[0;34m.\u001b[0m\u001b[0mkeras\u001b[0m \u001b[0;32mas\u001b[0m \u001b[0mkutils\u001b[0m\u001b[0;34m\u001b[0m\u001b[0;34m\u001b[0m\u001b[0m\n\u001b[0m\u001b[1;32m     29\u001b[0m \u001b[0;32mfrom\u001b[0m \u001b[0minnvestigate\u001b[0m\u001b[0;34m.\u001b[0m\u001b[0mutils\u001b[0m\u001b[0;34m.\u001b[0m\u001b[0mkeras\u001b[0m \u001b[0;32mimport\u001b[0m \u001b[0mchecks\u001b[0m \u001b[0;32mas\u001b[0m \u001b[0mkchecks\u001b[0m\u001b[0;34m\u001b[0m\u001b[0;34m\u001b[0m\u001b[0m\n\u001b[1;32m     30\u001b[0m \u001b[0;32mfrom\u001b[0m \u001b[0minnvestigate\u001b[0m\u001b[0;34m.\u001b[0m\u001b[0mutils\u001b[0m\u001b[0;34m.\u001b[0m\u001b[0mkeras\u001b[0m \u001b[0;32mimport\u001b[0m \u001b[0mgraph\u001b[0m \u001b[0;32mas\u001b[0m \u001b[0mkgraph\u001b[0m\u001b[0;34m\u001b[0m\u001b[0;34m\u001b[0m\u001b[0m\n",
            "\u001b[0;31mAttributeError\u001b[0m: module 'innvestigate' has no attribute 'utils'"
          ]
        }
      ]
    },
    {
      "cell_type": "code",
      "metadata": {
        "id": "wyexi0n2FwBA"
      },
      "source": [
        ""
      ],
      "execution_count": null,
      "outputs": []
    }
  ]
}
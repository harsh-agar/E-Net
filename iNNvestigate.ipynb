{
  "nbformat": 4,
  "nbformat_minor": 0,
  "metadata": {
    "colab": {
      "name": "Untitled14.ipynb",
      "provenance": [],
      "authorship_tag": "ABX9TyNOYsUfMML0arUZ5bzPOCPr",
      "include_colab_link": true
    },
    "kernelspec": {
      "name": "python3",
      "display_name": "Python 3"
    },
    "widgets": {
      "application/vnd.jupyter.widget-state+json": {
        "62f9de069211442e877c10bb3f6f796f": {
          "model_module": "@jupyter-widgets/controls",
          "model_name": "HBoxModel",
          "state": {
            "_view_name": "HBoxView",
            "_dom_classes": [],
            "_model_name": "HBoxModel",
            "_view_module": "@jupyter-widgets/controls",
            "_model_module_version": "1.5.0",
            "_view_count": null,
            "_view_module_version": "1.5.0",
            "box_style": "",
            "layout": "IPY_MODEL_97a3e86fe68e4aa784d93785e036000e",
            "_model_module": "@jupyter-widgets/controls",
            "children": [
              "IPY_MODEL_ec741862be42437696d7ab223874f7ba",
              "IPY_MODEL_b8e46035e6fc4dd0a7750f983ccb420c"
            ]
          }
        },
        "97a3e86fe68e4aa784d93785e036000e": {
          "model_module": "@jupyter-widgets/base",
          "model_name": "LayoutModel",
          "state": {
            "_view_name": "LayoutView",
            "grid_template_rows": null,
            "right": null,
            "justify_content": null,
            "_view_module": "@jupyter-widgets/base",
            "overflow": null,
            "_model_module_version": "1.2.0",
            "_view_count": null,
            "flex_flow": null,
            "width": null,
            "min_width": null,
            "border": null,
            "align_items": null,
            "bottom": null,
            "_model_module": "@jupyter-widgets/base",
            "top": null,
            "grid_column": null,
            "overflow_y": null,
            "overflow_x": null,
            "grid_auto_flow": null,
            "grid_area": null,
            "grid_template_columns": null,
            "flex": null,
            "_model_name": "LayoutModel",
            "justify_items": null,
            "grid_row": null,
            "max_height": null,
            "align_content": null,
            "visibility": null,
            "align_self": null,
            "height": null,
            "min_height": null,
            "padding": null,
            "grid_auto_rows": null,
            "grid_gap": null,
            "max_width": null,
            "order": null,
            "_view_module_version": "1.2.0",
            "grid_template_areas": null,
            "object_position": null,
            "object_fit": null,
            "grid_auto_columns": null,
            "margin": null,
            "display": null,
            "left": null
          }
        },
        "ec741862be42437696d7ab223874f7ba": {
          "model_module": "@jupyter-widgets/controls",
          "model_name": "FloatProgressModel",
          "state": {
            "_view_name": "ProgressView",
            "style": "IPY_MODEL_b94880161a4749c3bb5441c89551d2dc",
            "_dom_classes": [],
            "description": "100%",
            "_model_name": "FloatProgressModel",
            "bar_style": "success",
            "max": 8189,
            "_view_module": "@jupyter-widgets/controls",
            "_model_module_version": "1.5.0",
            "value": 8189,
            "_view_count": null,
            "_view_module_version": "1.5.0",
            "orientation": "horizontal",
            "min": 0,
            "description_tooltip": null,
            "_model_module": "@jupyter-widgets/controls",
            "layout": "IPY_MODEL_abbf3191e2b941deaaaab9e0570edaf5"
          }
        },
        "b8e46035e6fc4dd0a7750f983ccb420c": {
          "model_module": "@jupyter-widgets/controls",
          "model_name": "HTMLModel",
          "state": {
            "_view_name": "HTMLView",
            "style": "IPY_MODEL_045bf897eb5c466e94fa8a3ba2b49461",
            "_dom_classes": [],
            "description": "",
            "_model_name": "HTMLModel",
            "placeholder": "​",
            "_view_module": "@jupyter-widgets/controls",
            "_model_module_version": "1.5.0",
            "value": " 8189/8189 [29:00&lt;00:00,  4.71it/s]",
            "_view_count": null,
            "_view_module_version": "1.5.0",
            "description_tooltip": null,
            "_model_module": "@jupyter-widgets/controls",
            "layout": "IPY_MODEL_febbfc8179d14d6499c99fc91433cdd1"
          }
        },
        "b94880161a4749c3bb5441c89551d2dc": {
          "model_module": "@jupyter-widgets/controls",
          "model_name": "ProgressStyleModel",
          "state": {
            "_view_name": "StyleView",
            "_model_name": "ProgressStyleModel",
            "description_width": "initial",
            "_view_module": "@jupyter-widgets/base",
            "_model_module_version": "1.5.0",
            "_view_count": null,
            "_view_module_version": "1.2.0",
            "bar_color": null,
            "_model_module": "@jupyter-widgets/controls"
          }
        },
        "abbf3191e2b941deaaaab9e0570edaf5": {
          "model_module": "@jupyter-widgets/base",
          "model_name": "LayoutModel",
          "state": {
            "_view_name": "LayoutView",
            "grid_template_rows": null,
            "right": null,
            "justify_content": null,
            "_view_module": "@jupyter-widgets/base",
            "overflow": null,
            "_model_module_version": "1.2.0",
            "_view_count": null,
            "flex_flow": null,
            "width": null,
            "min_width": null,
            "border": null,
            "align_items": null,
            "bottom": null,
            "_model_module": "@jupyter-widgets/base",
            "top": null,
            "grid_column": null,
            "overflow_y": null,
            "overflow_x": null,
            "grid_auto_flow": null,
            "grid_area": null,
            "grid_template_columns": null,
            "flex": null,
            "_model_name": "LayoutModel",
            "justify_items": null,
            "grid_row": null,
            "max_height": null,
            "align_content": null,
            "visibility": null,
            "align_self": null,
            "height": null,
            "min_height": null,
            "padding": null,
            "grid_auto_rows": null,
            "grid_gap": null,
            "max_width": null,
            "order": null,
            "_view_module_version": "1.2.0",
            "grid_template_areas": null,
            "object_position": null,
            "object_fit": null,
            "grid_auto_columns": null,
            "margin": null,
            "display": null,
            "left": null
          }
        },
        "045bf897eb5c466e94fa8a3ba2b49461": {
          "model_module": "@jupyter-widgets/controls",
          "model_name": "DescriptionStyleModel",
          "state": {
            "_view_name": "StyleView",
            "_model_name": "DescriptionStyleModel",
            "description_width": "",
            "_view_module": "@jupyter-widgets/base",
            "_model_module_version": "1.5.0",
            "_view_count": null,
            "_view_module_version": "1.2.0",
            "_model_module": "@jupyter-widgets/controls"
          }
        },
        "febbfc8179d14d6499c99fc91433cdd1": {
          "model_module": "@jupyter-widgets/base",
          "model_name": "LayoutModel",
          "state": {
            "_view_name": "LayoutView",
            "grid_template_rows": null,
            "right": null,
            "justify_content": null,
            "_view_module": "@jupyter-widgets/base",
            "overflow": null,
            "_model_module_version": "1.2.0",
            "_view_count": null,
            "flex_flow": null,
            "width": null,
            "min_width": null,
            "border": null,
            "align_items": null,
            "bottom": null,
            "_model_module": "@jupyter-widgets/base",
            "top": null,
            "grid_column": null,
            "overflow_y": null,
            "overflow_x": null,
            "grid_auto_flow": null,
            "grid_area": null,
            "grid_template_columns": null,
            "flex": null,
            "_model_name": "LayoutModel",
            "justify_items": null,
            "grid_row": null,
            "max_height": null,
            "align_content": null,
            "visibility": null,
            "align_self": null,
            "height": null,
            "min_height": null,
            "padding": null,
            "grid_auto_rows": null,
            "grid_gap": null,
            "max_width": null,
            "order": null,
            "_view_module_version": "1.2.0",
            "grid_template_areas": null,
            "object_position": null,
            "object_fit": null,
            "grid_auto_columns": null,
            "margin": null,
            "display": null,
            "left": null
          }
        }
      }
    }
  },
  "cells": [
    {
      "cell_type": "markdown",
      "metadata": {
        "id": "view-in-github",
        "colab_type": "text"
      },
      "source": [
        "<a href=\"https://colab.research.google.com/github/harsh-agar/E-Net/blob/master/iNNvestigate.ipynb\" target=\"_parent\"><img src=\"https://colab.research.google.com/assets/colab-badge.svg\" alt=\"Open In Colab\"/></a>"
      ]
    },
    {
      "cell_type": "code",
      "metadata": {
        "id": "988cBtGNytlY"
      },
      "source": [
        "import os\r\n",
        "import cv2\r\n",
        "from tqdm import tqdm_notebook\r\n",
        "import scipy.io as io"
      ],
      "execution_count": null,
      "outputs": []
    },
    {
      "cell_type": "code",
      "metadata": {
        "colab": {
          "base_uri": "https://localhost:8080/"
        },
        "id": "hVi_UsLM6If1",
        "outputId": "92175bb3-39dc-4d71-dc15-762764ccf031"
      },
      "source": [
        "from google.colab import drive\n",
        "drive.mount('/content/drive')"
      ],
      "execution_count": 8,
      "outputs": [
        {
          "output_type": "stream",
          "text": [
            "Mounted at /content/drive\n"
          ],
          "name": "stdout"
        }
      ]
    },
    {
      "cell_type": "code",
      "metadata": {
        "id": "tWOGwjTY6JYv"
      },
      "source": [
        "!wget -P '/content/drive/MyDrive/iNNvestigate' -c \"https://www.robots.ox.ac.uk/~vgg/data/flowers/102/102flowers.tgz\"\r\n",
        "!ls '/content/drive/MyDrive/iNNvestigate/'\r\n",
        "!tar -xvzf 'r/content/drive/MyDrive/iNNvestigate/102flowers.tgz' -C '/content/drive/MyDrive/iNNvestigate'"
      ],
      "execution_count": null,
      "outputs": []
    },
    {
      "cell_type": "code",
      "metadata": {
        "id": "C0QyaRyivArV",
        "outputId": "10ff8665-dc12-49f4-b7fa-03db5cb22bd4",
        "colab": {
          "base_uri": "https://localhost:8080/"
        }
      },
      "source": [
        "!ls /content/drive/MyDrive/iNNvestigate"
      ],
      "execution_count": 9,
      "outputs": [
        {
          "output_type": "stream",
          "text": [
            "102flowers.tgz\tdataset  imagelabels.mat  jpg\n"
          ],
          "name": "stdout"
        }
      ]
    },
    {
      "cell_type": "code",
      "metadata": {
        "colab": {
          "base_uri": "https://localhost:8080/"
        },
        "id": "HPrmGreD8SD8",
        "outputId": "7f334997-80df-435f-eb4e-004457f18f6a"
      },
      "source": [
        "label_mat = io.loadmat('/content/drive/MyDrive/iNNvestigate/imagelabels.mat')\r\n",
        "len(label_mat['labels'][0])"
      ],
      "execution_count": 10,
      "outputs": [
        {
          "output_type": "execute_result",
          "data": {
            "text/plain": [
              "8189"
            ]
          },
          "metadata": {
            "tags": []
          },
          "execution_count": 10
        }
      ]
    },
    {
      "cell_type": "code",
      "metadata": {
        "colab": {
          "base_uri": "https://localhost:8080/",
          "height": 116,
          "referenced_widgets": [
            "62f9de069211442e877c10bb3f6f796f",
            "97a3e86fe68e4aa784d93785e036000e",
            "ec741862be42437696d7ab223874f7ba",
            "b8e46035e6fc4dd0a7750f983ccb420c",
            "b94880161a4749c3bb5441c89551d2dc",
            "abbf3191e2b941deaaaab9e0570edaf5",
            "045bf897eb5c466e94fa8a3ba2b49461",
            "febbfc8179d14d6499c99fc91433cdd1"
          ]
        },
        "id": "5o4m18ow-bV2",
        "outputId": "1720cdfc-9d3c-4bbf-b0ea-ed401d172255"
      },
      "source": [
        "img_names = os.listdir('/content/drive/MyDrive/iNNvestigate/jpg/')\r\n",
        "img_names.sort()\r\n",
        "path = '/content/drive/MyDrive/iNNvestigate/dataset/'\r\n",
        "for i in tqdm_notebook(range(len(label_mat['labels'][0]))):\r\n",
        "  img = cv2.imread('/content/drive/MyDrive/iNNvestigate/jpg/'+img_names[i])\r\n",
        "  if i%5==0:\r\n",
        "    folder_path = path+'val/'+str(label_mat['labels'][0][i])\r\n",
        "  elif i%5==1:\r\n",
        "    folder_path = path+'test/'+str(label_mat['labels'][0][i])\r\n",
        "  else:\r\n",
        "    folder_path = path+'train/'+str(label_mat['labels'][0][i])\r\n",
        "  if not os.path.exists(folder_path):\r\n",
        "    os.makedirs(folder_path)\r\n",
        "  cv2.imwrite(folder_path+'/'+img_names[i], img) "
      ],
      "execution_count": 25,
      "outputs": [
        {
          "output_type": "stream",
          "text": [
            "/usr/local/lib/python3.6/dist-packages/ipykernel_launcher.py:4: TqdmDeprecationWarning: This function will be removed in tqdm==5.0.0\n",
            "Please use `tqdm.notebook.tqdm` instead of `tqdm.tqdm_notebook`\n",
            "  after removing the cwd from sys.path.\n"
          ],
          "name": "stderr"
        },
        {
          "output_type": "display_data",
          "data": {
            "application/vnd.jupyter.widget-view+json": {
              "model_id": "62f9de069211442e877c10bb3f6f796f",
              "version_minor": 0,
              "version_major": 2
            },
            "text/plain": [
              "HBox(children=(FloatProgress(value=0.0, max=8189.0), HTML(value='')))"
            ]
          },
          "metadata": {
            "tags": []
          }
        },
        {
          "output_type": "stream",
          "text": [
            "\n"
          ],
          "name": "stdout"
        }
      ]
    },
    {
      "cell_type": "code",
      "metadata": {
        "id": "aHYBhorJ69pm",
        "outputId": "e29a65fb-eb1c-4d45-cf93-a515f6aeeee4",
        "colab": {
          "base_uri": "https://localhost:8080/"
        }
      },
      "source": [
        "from tensorflow.keras.applications import vgg16\r\n",
        "import keras\r\n",
        "from keras.models import Sequential\r\n",
        "from keras.layers import Dense, Conv2D, MaxPool2D , Flatten, Dropout\r\n",
        "from keras.preprocessing.image import ImageDataGenerator\r\n",
        "import numpy as np\r\n",
        "\r\n",
        "image_size=224\r\n",
        "\r\n",
        "vgg_conv = vgg16.VGG16(weights='imagenet', include_top=False, input_shape=(image_size, image_size, 3))\r\n",
        "\r\n",
        "for layer in vgg_conv.layers[:]:\r\n",
        "  layer.trainable = False\r\n",
        "for layer in vgg_conv.layers:\r\n",
        "  print(layer, layer.trainable)\r\n",
        "\r\n",
        "# Create the model\r\n",
        "model = Sequential()\r\n",
        "\r\n",
        "# Add the vgg convolutional base model\r\n",
        "model.add(vgg_conv)\r\n",
        "\r\n",
        "# Add new layers\r\n",
        "model.add(Flatten())\r\n",
        "model.add(Dense(1024, activation='relu'))\r\n",
        "model.add(Dropout(0.5))\r\n",
        "model.add(Dense(102, activation='softmax'))\r\n",
        "\r\n",
        "# Show a summary of the model. Check the number of trainable parameters\r\n",
        "model.summary()"
      ],
      "execution_count": 28,
      "outputs": [
        {
          "output_type": "stream",
          "text": [
            "<tensorflow.python.keras.engine.input_layer.InputLayer object at 0x7f6fdfc25780> False\n",
            "<tensorflow.python.keras.layers.convolutional.Conv2D object at 0x7f6fdfc25a58> False\n",
            "<tensorflow.python.keras.layers.convolutional.Conv2D object at 0x7f6fe01a9cf8> False\n",
            "<tensorflow.python.keras.layers.pooling.MaxPooling2D object at 0x7f6fed7c42e8> False\n",
            "<tensorflow.python.keras.layers.convolutional.Conv2D object at 0x7f6fe01cd048> False\n",
            "<tensorflow.python.keras.layers.convolutional.Conv2D object at 0x7f6fdfc25a90> False\n",
            "<tensorflow.python.keras.layers.pooling.MaxPooling2D object at 0x7f6fdfbc02e8> False\n",
            "<tensorflow.python.keras.layers.convolutional.Conv2D object at 0x7f6fdfbc0240> False\n",
            "<tensorflow.python.keras.layers.convolutional.Conv2D object at 0x7f6fdfc90048> False\n",
            "<tensorflow.python.keras.layers.convolutional.Conv2D object at 0x7f6fdfbc0048> False\n",
            "<tensorflow.python.keras.layers.pooling.MaxPooling2D object at 0x7f6fdfbd1a20> False\n",
            "<tensorflow.python.keras.layers.convolutional.Conv2D object at 0x7f6fdfc38be0> False\n",
            "<tensorflow.python.keras.layers.convolutional.Conv2D object at 0x7f6fdfbd1898> False\n",
            "<tensorflow.python.keras.layers.convolutional.Conv2D object at 0x7f6fdfbd19e8> False\n",
            "<tensorflow.python.keras.layers.pooling.MaxPooling2D object at 0x7f6fdfca60b8> False\n",
            "<tensorflow.python.keras.layers.convolutional.Conv2D object at 0x7f6fdfc2e470> False\n",
            "<tensorflow.python.keras.layers.convolutional.Conv2D object at 0x7f6fdfc31ac8> False\n",
            "<tensorflow.python.keras.layers.convolutional.Conv2D object at 0x7f6fdfc600f0> False\n",
            "<tensorflow.python.keras.layers.pooling.MaxPooling2D object at 0x7f6fe01d3d68> False\n",
            "Model: \"sequential_1\"\n",
            "_________________________________________________________________\n",
            "Layer (type)                 Output Shape              Param #   \n",
            "=================================================================\n",
            "vgg16 (Functional)           (None, 7, 7, 512)         14714688  \n",
            "_________________________________________________________________\n",
            "flatten_1 (Flatten)          (None, 25088)             0         \n",
            "_________________________________________________________________\n",
            "dense_1 (Dense)              (None, 1024)              25691136  \n",
            "_________________________________________________________________\n",
            "dropout (Dropout)            (None, 1024)              0         \n",
            "_________________________________________________________________\n",
            "dense_2 (Dense)              (None, 102)               104550    \n",
            "=================================================================\n",
            "Total params: 40,510,374\n",
            "Trainable params: 25,795,686\n",
            "Non-trainable params: 14,714,688\n",
            "_________________________________________________________________\n"
          ],
          "name": "stdout"
        }
      ]
    },
    {
      "cell_type": "code",
      "metadata": {
        "id": "3X37GkaT8R_2",
        "outputId": "95c6d728-4f0d-42d5-d6bb-d92aa0c17534",
        "colab": {
          "base_uri": "https://localhost:8080/"
        }
      },
      "source": [
        "# Load the normalized images\r\n",
        "train_datagen = ImageDataGenerator(rescale=1./255)\r\n",
        "validation_datagen = ImageDataGenerator(rescale=1./255)\r\n",
        "\r\n",
        "# Change the batchsize according to your system RAM\r\n",
        "train_batchsize = 64\r\n",
        "val_batchsize = 64\r\n",
        "\r\n",
        "train_dir = '/content/drive/MyDrive/iNNvestigate/dataset/train'\r\n",
        "val_dir = '/content/drive/MyDrive/iNNvestigate/dataset/val'\r\n",
        "\r\n",
        "# Data generator for training data\r\n",
        "train_generator = train_datagen.flow_from_directory(\r\n",
        "        train_dir,\r\n",
        "        target_size=(image_size, image_size),\r\n",
        "        batch_size=train_batchsize,\r\n",
        "        class_mode='categorical')\r\n",
        "\r\n",
        "# Data generator for validation data\r\n",
        "validation_generator = validation_datagen.flow_from_directory(\r\n",
        "        val_dir,\r\n",
        "        target_size=(image_size, image_size),\r\n",
        "        batch_size=val_batchsize,\r\n",
        "        class_mode='categorical',\r\n",
        "        shuffle=False)"
      ],
      "execution_count": 29,
      "outputs": [
        {
          "output_type": "stream",
          "text": [
            "Found 4913 images belonging to 102 classes.\n",
            "Found 1638 images belonging to 102 classes.\n"
          ],
          "name": "stdout"
        }
      ]
    },
    {
      "cell_type": "code",
      "metadata": {
        "id": "Ah64gJvGEDhv"
      },
      "source": [
        "# # Configure the model for training\r\n",
        "model.compile(loss='categorical_crossentropy',\r\n",
        "              optimizer=optimizers.RMSprop(lr=1e-4),\r\n",
        "              metrics=['acc'])\r\n",
        "\r\n",
        "# Train the model\r\n",
        "history = model.fit(\r\n",
        "      train_generator,\r\n",
        "      steps_per_epoch=\r\n",
        "         train_generator.samples/train_generator.batch_size,\r\n",
        "      epochs=20,\r\n",
        "      validation_data=validation_generator, \r\n",
        "      validation_steps=\r\n",
        "         validation_generator.samples/validation_generator.batch_size,\r\n",
        "      verbose=1)"
      ],
      "execution_count": null,
      "outputs": []
    },
    {
      "cell_type": "code",
      "metadata": {
        "id": "pqHvseYABusy"
      },
      "source": [
        ""
      ],
      "execution_count": 29,
      "outputs": []
    },
    {
      "cell_type": "code",
      "metadata": {
        "id": "J0DpQ4y8-cgn"
      },
      "source": [
        ""
      ],
      "execution_count": 54,
      "outputs": []
    },
    {
      "cell_type": "code",
      "metadata": {
        "id": "FYwURXIUCD0c"
      },
      "source": [
        ""
      ],
      "execution_count": 54,
      "outputs": []
    },
    {
      "cell_type": "code",
      "metadata": {
        "id": "r23YVBOaDIFv"
      },
      "source": [
        "  "
      ],
      "execution_count": 54,
      "outputs": []
    },
    {
      "cell_type": "code",
      "metadata": {
        "id": "wyexi0n2FwBA"
      },
      "source": [
        ""
      ],
      "execution_count": null,
      "outputs": []
    }
  ]
}
{
  "nbformat": 4,
  "nbformat_minor": 0,
  "metadata": {
    "colab": {
      "name": "MFPT-cnn-sv.ipynb",
      "provenance": [],
      "collapsed_sections": [],
      "include_colab_link": true
    },
    "kernelspec": {
      "name": "python3",
      "display_name": "Python 3"
    },
    "accelerator": "GPU"
  },
  "cells": [
    {
      "cell_type": "markdown",
      "metadata": {
        "id": "view-in-github",
        "colab_type": "text"
      },
      "source": [
        "<a href=\"https://colab.research.google.com/github/harsh-agar/E-Net/blob/master/MFPT_cnn_sv.ipynb\" target=\"_parent\"><img src=\"https://colab.research.google.com/assets/colab-badge.svg\" alt=\"Open In Colab\"/></a>"
      ]
    },
    {
      "cell_type": "code",
      "metadata": {
        "colab": {
          "base_uri": "https://localhost:8080/"
        },
        "id": "N6uoEPOno2wS",
        "outputId": "f672c822-b727-4b89-f8f2-1952bc23e04c"
      },
      "source": [
        "from google.colab import drive\n",
        "drive.mount('/content/drive')"
      ],
      "execution_count": 74,
      "outputs": [
        {
          "output_type": "stream",
          "text": [
            "Mounted at /content/drive\n"
          ],
          "name": "stdout"
        }
      ]
    },
    {
      "cell_type": "code",
      "metadata": {
        "id": "b2il1Qt7ljum"
      },
      "source": [
        "import numpy as np\r\n",
        "import keras\r\n",
        "import matplotlib.pyplot as plt\r\n",
        "from sklearn.model_selection import train_test_split\r\n",
        "from sklearn.metrics import confusion_matrix\r\n",
        "from keras.models import Sequential\r\n",
        "from keras.layers import Dense, Dropout, Flatten, Conv2D, MaxPool2D,GlobalMaxPooling2D, ConvLSTM2D, Reshape, TimeDistributed, Activation, LSTM\r\n",
        "from keras.optimizers import RMSprop\r\n",
        "from sklearn.preprocessing import LabelBinarizer\r\n",
        "from scipy.io import loadmat\r\n",
        "from keras.callbacks import ReduceLROnPlateau\r\n",
        "\r\n",
        "from sklearn.metrics import classification_report,confusion_matrix\r\n",
        "import matplotlib.pyplot as plt"
      ],
      "execution_count": 75,
      "outputs": []
    },
    {
      "cell_type": "code",
      "metadata": {
        "id": "2uyUhKUXljxR"
      },
      "source": [
        "def plotsave(history):\r\n",
        "    # summarize history for loss\r\n",
        "    plt.plot(history.history['loss'])\r\n",
        "    plt.plot(history.history['val_loss'])\r\n",
        "    plt.title('model loss')\r\n",
        "    plt.ylabel('loss')\r\n",
        "    plt.xlabel('epoch')\r\n",
        "    plt.legend(['train', 'validaton'], loc='upper left')\r\n",
        "    plt.savefig('histryofloss.pdf', bbox_inches='tight')\r\n",
        "    pass"
      ],
      "execution_count": 76,
      "outputs": []
    },
    {
      "cell_type": "code",
      "metadata": {
        "id": "MGKfoS58lj0U"
      },
      "source": [
        "dir_ds_imf1 = \"/content/drive/MyDrive/final_signal.mat\""
      ],
      "execution_count": 77,
      "outputs": []
    },
    {
      "cell_type": "code",
      "metadata": {
        "id": "N6F5qh8flj21",
        "colab": {
          "base_uri": "https://localhost:8080/"
        },
        "outputId": "f5d9cb19-9537-4991-9510-a91464362ac2"
      },
      "source": [
        "data = loadmat(dir_ds_imf1) # loading the data into dictionary format\r\n",
        "print(data.keys())"
      ],
      "execution_count": 78,
      "outputs": [
        {
          "output_type": "stream",
          "text": [
            "dict_keys(['__header__', '__version__', '__globals__', 'b_type', 'c_type', 'd_type', 'final_label', 'final_signal', 'i', 'n', 'o'])\n"
          ],
          "name": "stdout"
        }
      ]
    },
    {
      "cell_type": "code",
      "metadata": {
        "id": "xD3KD1xJnGJa",
        "colab": {
          "base_uri": "https://localhost:8080/"
        },
        "outputId": "90a0aec0-b1b0-4b79-aa66-1848916cf99c"
      },
      "source": [
        "signalData = data['final_signal']\r\n",
        "U_L = data['final_label']\r\n",
        "T_L = data['final_label']\r\n",
        "\r\n",
        "# Normalize the data\r\n",
        "signalData = signalData / 255.0\r\n",
        "\r\n",
        "signalData = np.reshape(signalData,(len(signalData),32,len(np.transpose(signalData)),1))\r\n",
        "\r\n",
        "label_encoder  = LabelBinarizer()\r\n",
        "U_L  = label_encoder.fit_transform(U_L)\r\n",
        "T_L  = label_encoder.fit_transform(T_L)\r\n",
        "\r\n",
        "signalData.shape"
      ],
      "execution_count": 79,
      "outputs": [
        {
          "output_type": "execute_result",
          "data": {
            "text/plain": [
              "(4290, 32, 32, 1)"
            ]
          },
          "metadata": {
            "tags": []
          },
          "execution_count": 79
        }
      ]
    },
    {
      "cell_type": "code",
      "metadata": {
        "id": "qT_mS34enGPR",
        "colab": {
          "base_uri": "https://localhost:8080/"
        },
        "outputId": "4331b0fd-2bf1-452c-dcf8-7ef361089826"
      },
      "source": [
        "random_seed = 2\r\n",
        "\r\n",
        "'DATA SPLITING'\r\n",
        "X_train, X_val, Y_train, Y_val = train_test_split(signalData, T_L, test_size = 0.3, random_state=random_seed)\r\n",
        "\r\n",
        "X_train.shape"
      ],
      "execution_count": 80,
      "outputs": [
        {
          "output_type": "execute_result",
          "data": {
            "text/plain": [
              "(3003, 32, 32, 1)"
            ]
          },
          "metadata": {
            "tags": []
          },
          "execution_count": 80
        }
      ]
    },
    {
      "cell_type": "code",
      "metadata": {
        "id": "qsxXM7o3nGUR"
      },
      "source": [
        "# model = Sequential()\r\n",
        "# #https://machinelearningmastery.com/cnn-long-short-term-memory-networks/?fbclid=IwAR1EuGy6pC-rFAt7LVPeFKZNe4oRgPftlH-V6SMl248TLlCu6KAhRKIR70s\r\n",
        "# # model = Sequential()\r\n",
        "# # # define CNN model\r\n",
        "# # model.add((Conv2D(...))\r\n",
        "# # model.add((MaxPooling2D(...)))\r\n",
        "# # model.add((Flatten()))\r\n",
        "# # # define LSTM model\r\n",
        "# # model.add(LSTM(...))\r\n",
        "# # model.add(Dense(...))\r\n",
        "\r\n",
        "# # model = Sequential()\r\n",
        "# # # define CNN model\r\n",
        "# # model.add((Conv2D(...))\r\n",
        "# # model.add((MaxPooling2D(...)))\r\n",
        "# # model.add((Flatten()))\r\n",
        "# # # define LSTM model\r\n",
        "# # model.add(LSTM(...))\r\n",
        "# # model.add(Dense(...))\r\n",
        "\r\n",
        "\r\n",
        "# model.add((Conv2D(filters = 32, kernel_size = (5,5),padding = 'Same', \r\n",
        "#                  activation ='relu', input_shape = (32,32,1))))\r\n",
        "\r\n",
        "# #tanh, elu\r\n",
        "# model.add((Conv2D(filters = 32, kernel_size = (3,3),padding = 'Same', \r\n",
        "#                  activation ='relu')))\r\n",
        "\r\n",
        "# model.add((MaxPool2D(pool_size=(2,2))))\r\n",
        "# model.add((Dropout(0.25)))\r\n",
        "\r\n",
        "\r\n",
        "# model.add((Conv2D(filters = 64, kernel_size = (3,3),padding = 'Same', \r\n",
        "#                  activation ='relu')))\r\n",
        "# model.add((MaxPool2D(pool_size=(2,2), strides=(2,2))))\r\n",
        "# model.add((Dropout(0.25)))\r\n",
        "\r\n",
        "# # https://medium.com/@iamvarman/how-to-calculate-the-number-of-parameters-in-the-cnn-5bd55364d7ca\r\n",
        "\r\n",
        "\r\n",
        "# model.add((Conv2D(filters = 64, kernel_size = (3,3),padding = 'Same', \r\n",
        "#                  activation ='relu')))\r\n",
        "# #model.add(MaxPool2D(pool_size=(2,2), strides=(2,2)))\r\n",
        "# model.add((Dropout(0.25)))\r\n",
        "\r\n",
        "\r\n",
        "# model.add((Flatten()))\r\n",
        "# model.add((Dense(128, activation = \"relu\")))\r\n",
        "# model.add((Dropout(0.5)))\r\n",
        "\r\n",
        "# # output layer\r\n",
        "# model.add(Dense(3, activation = \"softmax\")) \r\n",
        "# # '''\r\n",
        "# # LSTM Layers\r\n",
        "# # '''\r\n",
        "# # model.add(Reshape((X_train[0],32*32)))\r\n",
        "# # model.add(keras.layers.LSTM(64, input_shape=(X_train.shape[1], X_train.shape[2]), return_sequences=True))\r\n",
        "# # model.add(keras.layers.LSTM(64))\r\n",
        "\r\n",
        "# # # dense layer\r\n",
        "# # model.add(keras.layers.Dense(64, activation='relu'))\r\n",
        "# # model.add(keras.layers.Dropout(0.3))\r\n",
        "\r\n",
        "# # # output layer\r\n",
        "# # model.add(keras.layers.Dense(3, activation='softmax'))\r\n",
        "\r\n",
        "#  # output softmax\r\n",
        "# # Define the optimizer\r\n",
        "# # https://keras.io/ko/optimizers/\r\n",
        "# optimizer = RMSprop(lr=0.001, rho=0.9, epsilon=1e-08, decay=0.0) # <<\r\n",
        "# # Compile the model\r\n"
      ],
      "execution_count": 54,
      "outputs": []
    },
    {
      "cell_type": "code",
      "metadata": {
        "id": "zCw9pDdLtRdV"
      },
      "source": [
        "model = Sequential()\r\n",
        "\r\n",
        "model.add(Reshape((1,32,32,1), input_shape = (32,32,1)))\r\n",
        "# model.add(Reshape((3, 4), input_shape=(12,)))\r\n",
        "\r\n",
        "model.add(TimeDistributed(Conv2D(filters = 32, kernel_size = (5,5), input_shape = (1,32,32,1), padding = 'Same')))\r\n",
        "model.add(Activation('relu'))\r\n",
        "\r\n",
        "#tanh, elu\r\n",
        "model.add(TimeDistributed(Conv2D(filters = 32, kernel_size = (3,3),padding = 'Same')))\r\n",
        "model.add(Activation('relu'))\r\n",
        "\r\n",
        "model.add(TimeDistributed(MaxPool2D(pool_size=(2,2))))\r\n",
        "model.add(TimeDistributed(Dropout(0.25)))\r\n",
        "\r\n",
        "model.add(TimeDistributed(Conv2D(filters = 64, kernel_size = (3,3),padding = 'Same')))\r\n",
        "model.add(Activation('relu'))\r\n",
        "\r\n",
        "model.add(TimeDistributed(MaxPool2D(pool_size=(2,2), strides=(2,2))))\r\n",
        "model.add(TimeDistributed(Dropout(0.25)))\r\n",
        "\r\n",
        "model.add(TimeDistributed(Conv2D(filters = 64, kernel_size = (3,3),padding = 'Same')))\r\n",
        "model.add(Activation('relu'))\r\n",
        "#model.add(MaxPool2D(pool_size=(2,2), strides=(2,2)))\r\n",
        "model.add((Dropout(0.25)))\r\n",
        "\r\n",
        "model.add(TimeDistributed(Flatten()))\r\n",
        "\r\n",
        "model.add(LSTM(64, return_sequences=True))\r\n",
        "model.add(LSTM(64))\r\n",
        "\r\n",
        "# dense layer\r\n",
        "model.add(Dense(64, activation='relu'))\r\n",
        "model.add(Dropout(0.3))\r\n",
        "\r\n",
        "# output layer\r\n",
        "model.add(Dense(3, activation='softmax'))\r\n",
        "\r\n",
        "optimizer = RMSprop(lr=0.001, rho=0.9, epsilon=1e-08, decay=0.0) # <<\r\n",
        "# Compile the model"
      ],
      "execution_count": 81,
      "outputs": []
    },
    {
      "cell_type": "code",
      "metadata": {
        "colab": {
          "base_uri": "https://localhost:8080/"
        },
        "id": "l5h03suvs21O",
        "outputId": "24254a24-c4cc-4d8a-c63a-38e244659220"
      },
      "source": [
        "model.build((32, 32, 32, 1))\r\n",
        "model.summary()"
      ],
      "execution_count": 73,
      "outputs": [
        {
          "output_type": "stream",
          "text": [
            "Model: \"sequential_23\"\n",
            "_________________________________________________________________\n",
            "Layer (type)                 Output Shape              Param #   \n",
            "=================================================================\n",
            "reshape_4 (Reshape)          (None, 1, 32, 32, 1)      0         \n",
            "_________________________________________________________________\n",
            "time_distributed_181 (TimeDi (None, 1, 32, 32, 32)     832       \n",
            "_________________________________________________________________\n",
            "activation_56 (Activation)   (None, 1, 32, 32, 32)     0         \n",
            "_________________________________________________________________\n",
            "time_distributed_182 (TimeDi (None, 1, 32, 32, 32)     9248      \n",
            "_________________________________________________________________\n",
            "activation_57 (Activation)   (None, 1, 32, 32, 32)     0         \n",
            "_________________________________________________________________\n",
            "time_distributed_183 (TimeDi (None, 1, 16, 16, 32)     0         \n",
            "_________________________________________________________________\n",
            "time_distributed_184 (TimeDi (None, 1, 16, 16, 32)     0         \n",
            "_________________________________________________________________\n",
            "time_distributed_185 (TimeDi (None, 1, 16, 16, 64)     18496     \n",
            "_________________________________________________________________\n",
            "activation_58 (Activation)   (None, 1, 16, 16, 64)     0         \n",
            "_________________________________________________________________\n",
            "time_distributed_186 (TimeDi (None, 1, 8, 8, 64)       0         \n",
            "_________________________________________________________________\n",
            "time_distributed_187 (TimeDi (None, 1, 8, 8, 64)       0         \n",
            "_________________________________________________________________\n",
            "time_distributed_188 (TimeDi (None, 1, 8, 8, 64)       36928     \n",
            "_________________________________________________________________\n",
            "activation_59 (Activation)   (None, 1, 8, 8, 64)       0         \n",
            "_________________________________________________________________\n",
            "dropout_82 (Dropout)         (None, 1, 8, 8, 64)       0         \n",
            "_________________________________________________________________\n",
            "time_distributed_189 (TimeDi (None, 1, 4096)           0         \n",
            "_________________________________________________________________\n",
            "lstm_28 (LSTM)               (None, 1, 64)             1065216   \n",
            "_________________________________________________________________\n",
            "lstm_29 (LSTM)               (None, 64)                33024     \n",
            "_________________________________________________________________\n",
            "dense_33 (Dense)             (None, 64)                4160      \n",
            "_________________________________________________________________\n",
            "dropout_83 (Dropout)         (None, 64)                0         \n",
            "_________________________________________________________________\n",
            "dense_34 (Dense)             (None, 3)                 195       \n",
            "=================================================================\n",
            "Total params: 1,168,099\n",
            "Trainable params: 1,168,099\n",
            "Non-trainable params: 0\n",
            "_________________________________________________________________\n"
          ],
          "name": "stdout"
        }
      ]
    },
    {
      "cell_type": "code",
      "metadata": {
        "id": "rA0TLayTDzNK"
      },
      "source": [
        "model.compile(optimizer = optimizer , loss = \"categorical_crossentropy\", metrics=[\"accuracy\"])\r\n",
        "learning_rate_reduction = ReduceLROnPlateau(monitor='val_acc', \r\n",
        "                                            patience=3, \r\n",
        "                                            verbose=1, \r\n",
        "                                            factor=0.5, \r\n",
        "                                            min_lr=0.00001)"
      ],
      "execution_count": 82,
      "outputs": []
    },
    {
      "cell_type": "code",
      "metadata": {
        "colab": {
          "base_uri": "https://localhost:8080/"
        },
        "id": "ijJrqt9LnGZH",
        "outputId": "216fb93a-d845-479e-dbf4-102d319b60cc"
      },
      "source": [
        "epochs = 100 #<<100\r\n",
        "batch_size = 32 # <<\r\n",
        "model.summary()"
      ],
      "execution_count": 83,
      "outputs": [
        {
          "output_type": "stream",
          "text": [
            "Model: \"sequential_24\"\n",
            "_________________________________________________________________\n",
            "Layer (type)                 Output Shape              Param #   \n",
            "=================================================================\n",
            "reshape_5 (Reshape)          (None, 1, 32, 32, 1)      0         \n",
            "_________________________________________________________________\n",
            "time_distributed_190 (TimeDi (None, 1, 32, 32, 32)     832       \n",
            "_________________________________________________________________\n",
            "activation_60 (Activation)   (None, 1, 32, 32, 32)     0         \n",
            "_________________________________________________________________\n",
            "time_distributed_191 (TimeDi (None, 1, 32, 32, 32)     9248      \n",
            "_________________________________________________________________\n",
            "activation_61 (Activation)   (None, 1, 32, 32, 32)     0         \n",
            "_________________________________________________________________\n",
            "time_distributed_192 (TimeDi (None, 1, 16, 16, 32)     0         \n",
            "_________________________________________________________________\n",
            "time_distributed_193 (TimeDi (None, 1, 16, 16, 32)     0         \n",
            "_________________________________________________________________\n",
            "time_distributed_194 (TimeDi (None, 1, 16, 16, 64)     18496     \n",
            "_________________________________________________________________\n",
            "activation_62 (Activation)   (None, 1, 16, 16, 64)     0         \n",
            "_________________________________________________________________\n",
            "time_distributed_195 (TimeDi (None, 1, 8, 8, 64)       0         \n",
            "_________________________________________________________________\n",
            "time_distributed_196 (TimeDi (None, 1, 8, 8, 64)       0         \n",
            "_________________________________________________________________\n",
            "time_distributed_197 (TimeDi (None, 1, 8, 8, 64)       36928     \n",
            "_________________________________________________________________\n",
            "activation_63 (Activation)   (None, 1, 8, 8, 64)       0         \n",
            "_________________________________________________________________\n",
            "dropout_86 (Dropout)         (None, 1, 8, 8, 64)       0         \n",
            "_________________________________________________________________\n",
            "time_distributed_198 (TimeDi (None, 1, 4096)           0         \n",
            "_________________________________________________________________\n",
            "lstm_30 (LSTM)               (None, 1, 64)             1065216   \n",
            "_________________________________________________________________\n",
            "lstm_31 (LSTM)               (None, 64)                33024     \n",
            "_________________________________________________________________\n",
            "dense_35 (Dense)             (None, 64)                4160      \n",
            "_________________________________________________________________\n",
            "dropout_87 (Dropout)         (None, 64)                0         \n",
            "_________________________________________________________________\n",
            "dense_36 (Dense)             (None, 3)                 195       \n",
            "=================================================================\n",
            "Total params: 1,168,099\n",
            "Trainable params: 1,168,099\n",
            "Non-trainable params: 0\n",
            "_________________________________________________________________\n"
          ],
          "name": "stdout"
        }
      ]
    },
    {
      "cell_type": "code",
      "metadata": {
        "colab": {
          "base_uri": "https://localhost:8080/"
        },
        "id": "bmjk0C9qnZZZ",
        "outputId": "40265568-c093-4e96-8871-9814af731647"
      },
      "source": [
        "history = model.fit(X_train, Y_train, batch_size = batch_size, epochs = epochs, \r\n",
        "          validation_data = (X_val, Y_val), verbose = 1)"
      ],
      "execution_count": null,
      "outputs": [
        {
          "output_type": "stream",
          "text": [
            "Epoch 1/100\n",
            "94/94 [==============================] - 36s 37ms/step - loss: 1.0632 - accuracy: 0.4104 - val_loss: 1.0817 - val_accuracy: 0.6014\n",
            "Epoch 2/100\n",
            "94/94 [==============================] - 2s 22ms/step - loss: 0.9204 - accuracy: 0.4714 - val_loss: 1.0562 - val_accuracy: 0.4141\n",
            "Epoch 3/100\n",
            "94/94 [==============================] - 2s 22ms/step - loss: 0.7782 - accuracy: 0.5105 - val_loss: 0.5637 - val_accuracy: 0.6037\n",
            "Epoch 4/100\n",
            "94/94 [==============================] - 2s 22ms/step - loss: 0.8042 - accuracy: 0.5796 - val_loss: 0.5830 - val_accuracy: 0.5859\n",
            "Epoch 5/100\n",
            "94/94 [==============================] - 2s 21ms/step - loss: 0.7053 - accuracy: 0.5772 - val_loss: 1.2407 - val_accuracy: 0.4468\n",
            "Epoch 6/100\n",
            "94/94 [==============================] - 2s 21ms/step - loss: 0.6973 - accuracy: 0.5836 - val_loss: 0.5685 - val_accuracy: 0.5859\n",
            "Epoch 7/100\n",
            "94/94 [==============================] - 2s 21ms/step - loss: 0.8365 - accuracy: 0.5863 - val_loss: 1.0243 - val_accuracy: 0.4141\n",
            "Epoch 8/100\n",
            "94/94 [==============================] - 2s 21ms/step - loss: 0.8845 - accuracy: 0.4791 - val_loss: 0.5636 - val_accuracy: 0.5859\n",
            "Epoch 9/100\n",
            "94/94 [==============================] - 2s 22ms/step - loss: 0.5562 - accuracy: 0.6178 - val_loss: 0.5783 - val_accuracy: 0.5828\n",
            "Epoch 10/100\n",
            "94/94 [==============================] - 2s 22ms/step - loss: 0.5681 - accuracy: 0.5811 - val_loss: 0.5630 - val_accuracy: 0.5859\n",
            "Epoch 11/100\n",
            "94/94 [==============================] - 2s 22ms/step - loss: 0.6841 - accuracy: 0.5909 - val_loss: 0.5620 - val_accuracy: 0.6037\n",
            "Epoch 12/100\n",
            "94/94 [==============================] - 2s 22ms/step - loss: 0.5766 - accuracy: 0.5875 - val_loss: 0.5683 - val_accuracy: 0.5851\n",
            "Epoch 13/100\n",
            "94/94 [==============================] - 2s 22ms/step - loss: 0.7088 - accuracy: 0.5872 - val_loss: 0.5619 - val_accuracy: 0.6037\n",
            "Epoch 14/100\n",
            "94/94 [==============================] - 2s 21ms/step - loss: 0.5896 - accuracy: 0.6057 - val_loss: 0.5652 - val_accuracy: 0.5859\n",
            "Epoch 15/100\n",
            "94/94 [==============================] - 2s 22ms/step - loss: 0.5476 - accuracy: 0.6273 - val_loss: 0.5631 - val_accuracy: 0.5851\n",
            "Epoch 16/100\n",
            "94/94 [==============================] - 2s 22ms/step - loss: 0.7434 - accuracy: 0.5850 - val_loss: 0.5616 - val_accuracy: 0.6037\n",
            "Epoch 17/100\n",
            "94/94 [==============================] - 2s 22ms/step - loss: 0.5553 - accuracy: 0.5892 - val_loss: 0.5640 - val_accuracy: 0.5859\n",
            "Epoch 18/100\n",
            "94/94 [==============================] - 2s 22ms/step - loss: 0.5958 - accuracy: 0.6007 - val_loss: 0.5670 - val_accuracy: 0.6030\n",
            "Epoch 19/100\n",
            "94/94 [==============================] - 2s 22ms/step - loss: 0.5557 - accuracy: 0.6043 - val_loss: 0.5625 - val_accuracy: 0.5859\n",
            "Epoch 20/100\n",
            "94/94 [==============================] - 2s 22ms/step - loss: 0.5624 - accuracy: 0.5902 - val_loss: 0.5739 - val_accuracy: 0.5835\n",
            "Epoch 21/100\n",
            "94/94 [==============================] - 2s 21ms/step - loss: 0.5626 - accuracy: 0.6044 - val_loss: 0.5623 - val_accuracy: 0.5859\n",
            "Epoch 22/100\n",
            "94/94 [==============================] - 2s 21ms/step - loss: 0.5433 - accuracy: 0.6369 - val_loss: 0.5616 - val_accuracy: 0.6037\n",
            "Epoch 23/100\n",
            "94/94 [==============================] - 2s 22ms/step - loss: 0.5753 - accuracy: 0.5926 - val_loss: 0.5684 - val_accuracy: 0.6022\n",
            "Epoch 24/100\n",
            "94/94 [==============================] - 2s 22ms/step - loss: 0.5594 - accuracy: 0.6035 - val_loss: 0.5626 - val_accuracy: 0.5859\n",
            "Epoch 25/100\n",
            "94/94 [==============================] - 2s 22ms/step - loss: 0.5478 - accuracy: 0.6018 - val_loss: 0.5616 - val_accuracy: 0.6037\n",
            "Epoch 26/100\n",
            "94/94 [==============================] - 2s 22ms/step - loss: 0.5474 - accuracy: 0.5973 - val_loss: 0.5617 - val_accuracy: 0.6037\n",
            "Epoch 27/100\n",
            "94/94 [==============================] - 2s 22ms/step - loss: 0.6732 - accuracy: 0.5838 - val_loss: 0.5660 - val_accuracy: 0.5859\n",
            "Epoch 28/100\n",
            "94/94 [==============================] - 2s 22ms/step - loss: 0.5548 - accuracy: 0.6005 - val_loss: 0.5823 - val_accuracy: 0.5820\n",
            "Epoch 29/100\n",
            "94/94 [==============================] - 2s 22ms/step - loss: 0.5599 - accuracy: 0.6010 - val_loss: 0.5616 - val_accuracy: 0.6037\n",
            "Epoch 30/100\n",
            "94/94 [==============================] - 2s 22ms/step - loss: 0.5612 - accuracy: 0.5876 - val_loss: 0.5620 - val_accuracy: 0.5859\n",
            "Epoch 31/100\n",
            "94/94 [==============================] - 2s 22ms/step - loss: 0.5508 - accuracy: 0.5987 - val_loss: 0.5617 - val_accuracy: 0.6037\n",
            "Epoch 32/100\n",
            "94/94 [==============================] - 2s 21ms/step - loss: 0.6458 - accuracy: 0.5898 - val_loss: 0.5621 - val_accuracy: 0.6037\n",
            "Epoch 33/100\n",
            "94/94 [==============================] - 2s 22ms/step - loss: 0.5558 - accuracy: 0.6129 - val_loss: 0.5617 - val_accuracy: 0.6037\n",
            "Epoch 34/100\n",
            "94/94 [==============================] - 2s 22ms/step - loss: 0.6022 - accuracy: 0.6140 - val_loss: 0.5622 - val_accuracy: 0.5859\n",
            "Epoch 35/100\n",
            "94/94 [==============================] - 2s 22ms/step - loss: 0.5463 - accuracy: 0.6218 - val_loss: 0.5675 - val_accuracy: 0.5851\n",
            "Epoch 36/100\n",
            "94/94 [==============================] - 2s 22ms/step - loss: 0.5682 - accuracy: 0.6207 - val_loss: 0.5615 - val_accuracy: 0.6037\n",
            "Epoch 37/100\n",
            "94/94 [==============================] - 2s 22ms/step - loss: 0.5609 - accuracy: 0.5846 - val_loss: 0.5648 - val_accuracy: 0.5851\n",
            "Epoch 38/100\n",
            "94/94 [==============================] - 2s 22ms/step - loss: 0.5504 - accuracy: 0.5952 - val_loss: 0.5619 - val_accuracy: 0.5859\n",
            "Epoch 39/100\n",
            "94/94 [==============================] - 2s 22ms/step - loss: 0.8304 - accuracy: 0.5823 - val_loss: 0.5623 - val_accuracy: 0.6037\n",
            "Epoch 40/100\n",
            "94/94 [==============================] - 2s 22ms/step - loss: 0.5498 - accuracy: 0.6222 - val_loss: 0.5754 - val_accuracy: 0.6014\n",
            "Epoch 41/100\n",
            "94/94 [==============================] - 2s 22ms/step - loss: 0.5580 - accuracy: 0.6061 - val_loss: 0.5616 - val_accuracy: 0.6037\n",
            "Epoch 42/100\n",
            "94/94 [==============================] - 2s 22ms/step - loss: 0.6015 - accuracy: 0.6249 - val_loss: 0.5641 - val_accuracy: 0.5851\n",
            "Epoch 43/100\n",
            "94/94 [==============================] - 2s 22ms/step - loss: 0.5556 - accuracy: 0.6013 - val_loss: 0.5617 - val_accuracy: 0.6037\n",
            "Epoch 44/100\n",
            "94/94 [==============================] - 2s 22ms/step - loss: 0.5512 - accuracy: 0.6012 - val_loss: 0.5616 - val_accuracy: 0.6037\n",
            "Epoch 45/100\n",
            "94/94 [==============================] - ETA: 0s - loss: 0.5493 - accuracy: 0.5923"
          ],
          "name": "stdout"
        }
      ]
    },
    {
      "cell_type": "code",
      "metadata": {
        "id": "0VCezfWtnZe4"
      },
      "source": [
        "#dir_saveTo = \"/content/gdrive/MyDrive/BRAC/Thesis/Thesis(BRACU)/Pre-Thesis 2/Google Colab/t_05-CNN_RNN/CNN/SaveIMF1\"\r\n",
        "#model.save(dir_saveTo)"
      ],
      "execution_count": null,
      "outputs": []
    },
    {
      "cell_type": "code",
      "metadata": {
        "id": "0UZvCtHQnZhR"
      },
      "source": [
        "plotsave(history)"
      ],
      "execution_count": null,
      "outputs": []
    },
    {
      "cell_type": "code",
      "metadata": {
        "id": "yJ8t6FdQnZje",
        "colab": {
          "base_uri": "https://localhost:8080/"
        },
        "outputId": "65a91a29-8c97-4a81-d49e-5af55d978339"
      },
      "source": [
        "##################################### TEST 1  \r\n",
        "# Predict the values from the  dataset\r\n",
        "Y_pred = model.predict(signalData)\r\n",
        "# Convert predictions classes to one hot vectors \r\n",
        "Y_pred_classes = np.argmax(Y_pred,axis = 1) \r\n",
        "# Convert validation observations to one hot vectors\r\n",
        "Y_true = np.argmax(U_L,axis = 1) \r\n",
        "# compute the confusion matrix\r\n",
        "confusion_mtx = confusion_matrix(Y_true, Y_pred_classes) \r\n",
        "# plot the confusion matrix\r\n",
        "print(confusion_mtx)\r\n",
        "target_names = ['normal', 'ball', 'inner']\r\n",
        "# Argmax function is deconverting from hot encoding to simple one\r\n",
        "print (classification_report(Y_pred_classes,Y_true, target_names = target_names))"
      ],
      "execution_count": null,
      "outputs": [
        {
          "output_type": "stream",
          "text": [
            "[[1716    0    0]\n",
            " [1716    0    0]\n",
            " [   0    0  858]]\n",
            "              precision    recall  f1-score   support\n",
            "\n",
            "      normal       1.00      0.50      0.67      3432\n",
            "        ball       0.00      0.00      0.00         0\n",
            "       inner       1.00      1.00      1.00       858\n",
            "\n",
            "    accuracy                           0.60      4290\n",
            "   macro avg       0.67      0.50      0.56      4290\n",
            "weighted avg       1.00      0.60      0.73      4290\n",
            "\n"
          ],
          "name": "stdout"
        },
        {
          "output_type": "stream",
          "text": [
            "/usr/local/lib/python3.7/dist-packages/sklearn/metrics/_classification.py:1272: UndefinedMetricWarning: Recall and F-score are ill-defined and being set to 0.0 in labels with no true samples. Use `zero_division` parameter to control this behavior.\n",
            "  _warn_prf(average, modifier, msg_start, len(result))\n"
          ],
          "name": "stderr"
        }
      ]
    },
    {
      "cell_type": "code",
      "metadata": {
        "id": "dGcUi5Clm7dI"
      },
      "source": [
        ""
      ],
      "execution_count": null,
      "outputs": []
    },
    {
      "cell_type": "code",
      "metadata": {
        "id": "BfcFs-L2m724"
      },
      "source": [
        ""
      ],
      "execution_count": null,
      "outputs": []
    },
    {
      "cell_type": "code",
      "metadata": {
        "id": "sBdNiZkPm75Z"
      },
      "source": [
        ""
      ],
      "execution_count": null,
      "outputs": []
    },
    {
      "cell_type": "code",
      "metadata": {
        "id": "_WvwIvFhm78k"
      },
      "source": [
        ""
      ],
      "execution_count": null,
      "outputs": []
    },
    {
      "cell_type": "code",
      "metadata": {
        "id": "zT0DpjyFm7-_"
      },
      "source": [
        ""
      ],
      "execution_count": null,
      "outputs": []
    },
    {
      "cell_type": "code",
      "metadata": {
        "id": "dFCbrHBYm8BQ"
      },
      "source": [
        ""
      ],
      "execution_count": null,
      "outputs": []
    },
    {
      "cell_type": "code",
      "metadata": {
        "id": "aALAvdgcm8Dr"
      },
      "source": [
        ""
      ],
      "execution_count": null,
      "outputs": []
    }
  ]
}
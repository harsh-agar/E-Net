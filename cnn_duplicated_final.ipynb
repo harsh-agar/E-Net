{
  "nbformat": 4,
  "nbformat_minor": 0,
  "metadata": {
    "accelerator": "GPU",
    "colab": {
      "name": "cnn.ipynb",
      "provenance": [],
      "private_outputs": true,
      "collapsed_sections": [],
      "toc_visible": true,
      "include_colab_link": true
    },
    "kernelspec": {
      "display_name": "Python 3",
      "name": "python3"
    }
  },
  "cells": [
    {
      "cell_type": "markdown",
      "metadata": {
        "id": "view-in-github",
        "colab_type": "text"
      },
      "source": [
        "<a href=\"https://colab.research.google.com/github/harsh-agar/E-Net/blob/master/cnn_duplicated_final.ipynb\" target=\"_parent\"><img src=\"https://colab.research.google.com/assets/colab-badge.svg\" alt=\"Open In Colab\"/></a>"
      ]
    },
    {
      "cell_type": "markdown",
      "metadata": {
        "colab_type": "text",
        "id": "DSPCom-KmApV"
      },
      "source": [
        "# Convolutional Neural Network (CNN)"
      ]
    },
    {
      "cell_type": "markdown",
      "metadata": {
        "colab_type": "text",
        "id": "m7KBpffWzlxH"
      },
      "source": [
        "### Import TensorFlow"
      ]
    },
    {
      "cell_type": "code",
      "metadata": {
        "colab_type": "code",
        "id": "iAve6DCL4JH4",
        "colab": {}
      },
      "source": [
        "from __future__ import absolute_import, division, print_function, unicode_literals\n",
        "\n",
        "try:\n",
        "  # %tensorflow_version only exists in Colab.\n",
        "  %tensorflow_version 2.x\n",
        "except Exception:\n",
        "  pass\n",
        "import tensorflow as tf\n",
        "from tensorflow.keras import layers, models\n",
        "# from tensorflow.keras import datasets, layers, models\n",
        "import matplotlib.pyplot as plt"
      ],
      "execution_count": 0,
      "outputs": []
    },
    {
      "cell_type": "code",
      "metadata": {
        "id": "c7eQzEWyHwV6",
        "colab_type": "code",
        "colab": {}
      },
      "source": [
        "from google.colab import drive\n",
        "drive.mount('/content/gdrive', force_remount=True)"
      ],
      "execution_count": 0,
      "outputs": []
    },
    {
      "cell_type": "code",
      "metadata": {
        "id": "v3qBXBxpIQRs",
        "colab_type": "code",
        "colab": {}
      },
      "source": [
        "import os\n",
        "import random\n",
        "import skimage.data\n",
        "import skimage.transform\n",
        "import matplotlib\n",
        "import matplotlib.pyplot as plt\n",
        "import numpy as np\n",
        "# import tensorflow as tf\n",
        "from tqdm import tqdm\n",
        "# Allow image embeding in notebook\n",
        "%matplotlib inline\n",
        "import time"
      ],
      "execution_count": 0,
      "outputs": []
    },
    {
      "cell_type": "code",
      "metadata": {
        "id": "8X8musutKni8",
        "colab_type": "code",
        "colab": {}
      },
      "source": [
        "def display_images_and_labels(images, labels):\n",
        "    \"\"\"Display the first image of each label.\"\"\"\n",
        "    unique_labels = set(labels)\n",
        "    plt.figure(figsize=(15, 15))\n",
        "    i = 1\n",
        "    for label in unique_labels:\n",
        "        # Pick the first image for each label.\n",
        "        image = images[labels.index(label)]\n",
        "        plt.subplot(12, 12, i)  # A grid of 8 rows x 8 columns\n",
        "        plt.axis('off')\n",
        "        plt.title(\"Label {0} ({1})\".format(label, labels.count(label)))\n",
        "        i += 1\n",
        "        _ = plt.imshow(image)\n",
        "    plt.show()\n",
        "\n",
        "# display_images_and_labels(images, labels)"
      ],
      "execution_count": 0,
      "outputs": []
    },
    {
      "cell_type": "code",
      "metadata": {
        "id": "leGBU-DAIRve",
        "colab_type": "code",
        "colab": {}
      },
      "source": [
        "def load_data(data_dir):\n",
        "    \"\"\"Loads a data set and returns two lists:\n",
        "    \n",
        "    images: a list of Numpy arrays, each representing an image.\n",
        "    labels: a list of numbers that represent the images labels.\n",
        "    \"\"\"\n",
        "    start = time.time()\n",
        "    # Get all subdirectories of data_dir. Each represents a label.\n",
        "    directories = [d for d in os.listdir(data_dir) \n",
        "                   if os.path.isdir(os.path.join(data_dir, d))]\n",
        "    # Loop through the label directories and collect the data in\n",
        "    # two lists, labels and images.\n",
        "    labels = []\n",
        "    images = []\n",
        "    index = []\n",
        "    c = 0\n",
        "    for d in tqdm(directories):\n",
        "        label_dir = os.path.join(data_dir, d)\n",
        "        file_names = [os.path.join(label_dir, f) \n",
        "                      for f in os.listdir(label_dir) if f.endswith(\".ppm\") or f.endswith(\".jpg\")]\n",
        "        # For each label, load it's images and add them to the images list.\n",
        "        # And add the label number (i.e. directory name) to the labels list.\n",
        "        for f in file_names:\n",
        "            images.append(skimage.data.imread(f))\n",
        "            labels.append(int(d))\n",
        "            index.append(int(c))\n",
        "            c = c+1\n",
        "    end = time.time()\n",
        "    print(end - start)\n",
        "    return images, labels, index \n",
        "\n",
        "\n",
        "# Load training and testing datasets.\n",
        "# ROOT_PATH = \"/traffic\"\n",
        "train_data_dir = r\"/content/gdrive/My Drive/traffic/Training\"\n",
        "test_data_dir = r\"/content/gdrive/My Drive/traffic/Testing\"\n",
        "# test_data_dir = os.path.join(ROOT_PATH, \"datasets/BelgiumTS/Testing\")\n",
        "\n",
        "train_images, train_labels, train_index = load_data(train_data_dir)\n",
        "test_images, test_labels, test_index = load_data(test_data_dir)"
      ],
      "execution_count": 0,
      "outputs": []
    },
    {
      "cell_type": "code",
      "metadata": {
        "id": "ntAZ_8-zKKOW",
        "colab_type": "code",
        "colab": {}
      },
      "source": [
        "# !wget https://btsd.ethz.ch/shareddata/BelgiumTSC/BelgiumTSC_Testing.zip -P \"/content/gdrive/My Drive/traffic\"\n",
        "# !unzip '/content/gdrive/My Drive/traffic/BelgiumTSC_Testing.zip' -d \"/content/gdrive/My Drive/traffic\""
      ],
      "execution_count": 0,
      "outputs": []
    },
    {
      "cell_type": "code",
      "metadata": {
        "colab_type": "code",
        "id": "JWoEqyMuXFF4",
        "colab": {}
      },
      "source": [
        "# (train_images, train_labels), (test_images, test_labels) = datasets.cifar10.load_data()\n",
        "\n",
        "train_images32 = [skimage.transform.resize(image, (32, 32), mode='constant')\n",
        "                for image in train_images]\n",
        "test_images32 = [skimage.transform.resize(image, (32, 32), mode='constant')\n",
        "                for image in test_images]\n",
        "\n",
        "train_labels_np = np.array(train_labels)\n",
        "test_labels_np = np.array(test_labels)\n",
        "train_index_np = np.array(train_index)\n",
        "test_index_np = np.array(test_index)\n",
        "train_images32_np = np.array(train_images32)\n",
        "test_images32_np = np.array(test_images32)"
      ],
      "execution_count": 0,
      "outputs": []
    },
    {
      "cell_type": "code",
      "metadata": {
        "id": "n2NsvGk6ahp9",
        "colab_type": "code",
        "colab": {}
      },
      "source": [
        "c=0\n",
        "tr_images32 = []\n",
        "vr_images32 = []\n",
        "tr_labels = []\n",
        "vr_labels = []\n",
        "for i in range(62):\n",
        "  # print (i, sum(train_labels_np==i))\n",
        "  c = c +sum (train_labels_np==i)\n",
        "  # print (train_index_np[train_labels_np==i])\n",
        "  a = train_index_np[train_labels_np==i]\n",
        "  np.random.shuffle(a)\n",
        "  # print(a)\n",
        "  split = int(sum(train_labels_np==i)/10)+1\n",
        "  tr_idx = a[split:]\n",
        "  vr_idx = a[:split]\n",
        "  for i in tr_idx:\n",
        "    tr_images32.append(train_images32[i])\n",
        "    tr_labels.append(train_labels[i])\n",
        "  for i in vr_idx:\n",
        "    vr_images32.append(train_images32[i])\n",
        "    vr_labels.append(train_labels[i])\n",
        "    # print(split)\n",
        "print(len(tr_images32))\n",
        "print(len(vr_images32))\n",
        "print(len(tr_labels))\n",
        "print(len(vr_labels))"
      ],
      "execution_count": 0,
      "outputs": []
    },
    {
      "cell_type": "code",
      "metadata": {
        "id": "ODy_n_NODCCG",
        "colab_type": "code",
        "colab": {}
      },
      "source": [
        "tr_images32_np = np.array(tr_images32)\n",
        "vr_images32_np = np.array(vr_images32)\n",
        "tr_labels_np = np.array(tr_labels)\n",
        "vr_labels_np = np.array(vr_labels)\n",
        "print(tr_images32_np.shape)\n",
        "print(vr_images32_np.shape)\n",
        "print(tr_labels_np.shape)\n",
        "print(vr_labels_np.shape)"
      ],
      "execution_count": 0,
      "outputs": []
    },
    {
      "cell_type": "code",
      "metadata": {
        "id": "z5ha1I3BCjDG",
        "colab_type": "code",
        "colab": {}
      },
      "source": [
        "tr_index_np = np.arange(tr_labels_np.shape[0])\n",
        "vr_index_np = np.arange(vr_labels_np.shape[0])"
      ],
      "execution_count": 0,
      "outputs": []
    },
    {
      "cell_type": "code",
      "metadata": {
        "id": "szVuswbkU1SR",
        "colab_type": "code",
        "colab": {}
      },
      "source": [
        ""
      ],
      "execution_count": 0,
      "outputs": []
    },
    {
      "cell_type": "code",
      "metadata": {
        "id": "Hv0JLVtpZJir",
        "colab_type": "code",
        "colab": {}
      },
      "source": [
        "from numpy.random import randint\n",
        "dupli_images32 = []\n",
        "dupli_labels = []\n",
        "for particular_label in range(62):\n",
        "  values = randint(0, sum(tr_labels_np == particular_label), 500)\n",
        "  # print(sum(tr_labels_np == particular_label))\n",
        "  # print(values)\n",
        "  for i in (tr_index_np[tr_labels_np == particular_label][values]):\n",
        "    # tr_images32[tr_index_np[tr_labels_np == particular_label][values]]\n",
        "    dupli_images32.append(tr_images32[i])\n",
        "    dupli_labels.append(tr_labels[i])\n",
        "print(len(dupli_images32))\n",
        "print(len(dupli_labels))"
      ],
      "execution_count": 0,
      "outputs": []
    },
    {
      "cell_type": "code",
      "metadata": {
        "id": "fIGb927-jm77",
        "colab_type": "code",
        "colab": {}
      },
      "source": [
        "dupli_images32_np = np.array(dupli_images32)\n",
        "dupli_labels_np = np.array(dupli_labels)\n",
        "print(dupli_images32_np.shape)\n",
        "print(dupli_labels_np.shape)"
      ],
      "execution_count": 0,
      "outputs": []
    },
    {
      "cell_type": "code",
      "metadata": {
        "id": "B_k2vRH-RWyG",
        "colab_type": "code",
        "colab": {}
      },
      "source": [
        "display_images_and_labels(tr_images32, tr_labels)"
      ],
      "execution_count": 0,
      "outputs": []
    },
    {
      "cell_type": "code",
      "metadata": {
        "id": "HNbDhLLVRehD",
        "colab_type": "code",
        "colab": {}
      },
      "source": [
        "display_images_and_labels(vr_images32, vr_labels)"
      ],
      "execution_count": 0,
      "outputs": []
    },
    {
      "cell_type": "code",
      "metadata": {
        "id": "pAdkMI7HRl0c",
        "colab_type": "code",
        "colab": {}
      },
      "source": [
        "display_images_and_labels(dupli_images32, list(dupli_labels_np))"
      ],
      "execution_count": 0,
      "outputs": []
    },
    {
      "cell_type": "markdown",
      "metadata": {
        "id": "z2IUySyyU2N9",
        "colab_type": "text"
      },
      "source": [
        "### Augmentation"
      ]
    },
    {
      "cell_type": "code",
      "metadata": {
        "id": "fRj8sdIuU1c9",
        "colab_type": "code",
        "colab": {}
      },
      "source": [
        "folder_path = '/content/gdrive/My Drive/traffic/smote_augmented_data3'\n",
        "path = '/content/gdrive/My Drive/traffic/smote_augmented_data3'\n",
        "try:\n",
        "    os.mkdir(path)\n",
        "except OSError:\n",
        "    print (\"Creation of the directory %s failed\" % path)\n",
        "    \n",
        "for i in range(62):\n",
        "    path = '%s/%s' % (folder_path, i)\n",
        "    try:\n",
        "        os.mkdir(path)\n",
        "    except OSError:\n",
        "        print (\"Creation of the directory %s failed\" % path)"
      ],
      "execution_count": 0,
      "outputs": []
    },
    {
      "cell_type": "code",
      "metadata": {
        "id": "3EnX_ur1aAH7",
        "colab_type": "code",
        "colab": {}
      },
      "source": [
        "imgs_np_1d = np.array([(np.array(xi)).ravel() for xi in train_images32_np])"
      ],
      "execution_count": 0,
      "outputs": []
    },
    {
      "cell_type": "code",
      "metadata": {
        "id": "CnT6UPe8aPRH",
        "colab_type": "code",
        "colab": {}
      },
      "source": [
        "imgs_np_1d.shape"
      ],
      "execution_count": 0,
      "outputs": []
    },
    {
      "cell_type": "code",
      "metadata": {
        "id": "4wTqfmdWW8lZ",
        "colab_type": "code",
        "colab": {}
      },
      "source": [
        "import skimage as sk\n",
        "from sklearn.cluster import KMeans\n",
        "from sklearn.manifold import TSNE\n",
        "import time\n",
        "num_files_desired_per_label = 500\n",
        "folder_path = '/content/gdrive/My Drive/traffic/smote_augmented_data3'\n",
        "tsne = TSNE(n_components=2, verbose=1, perplexity=40, n_iter=1000)\n",
        "for particular_label in range(62):\n",
        "    print (particular_label)\n",
        "    num_clusters = 5\n",
        "    if (sum(train_labels_np==particular_label)<3*num_clusters):\n",
        "        num_clusters = int(sum(train_labels_np==particular_label)/4)    \n",
        "    imgs_np_1d_particular_label = imgs_np_1d[train_labels_np == particular_label]\n",
        "    index_particular_label = train_index_np[train_labels_np ==particular_label]\n",
        "    tsne_results = tsne.fit_transform(imgs_np_1d_particular_label)\n",
        "    kmeans = KMeans(n_clusters=num_clusters, max_iter = 500)\n",
        "    kmeans_tsne = kmeans.fit_predict(tsne_results)\n",
        "    \n",
        "    num_vals_each_cluster = []\n",
        "    for i in range(num_clusters):\n",
        "        num_vals_each_cluster.append(sum(kmeans_tsne==i))\n",
        "    actual_cluster = np.arange(num_clusters)\n",
        "    actual_cluster = actual_cluster[np.array(num_vals_each_cluster)>1]\n",
        "    num_files_desired_per_cluster = num_files_desired_per_label/num_clusters\n",
        "    \n",
        "    num_files_desired_per_cluster = num_files_desired_per_label/len(actual_cluster)\n",
        "    \n",
        "    for cluster_val in actual_cluster:\n",
        "\n",
        "        num_files_present = len(index_particular_label[kmeans_tsne==cluster_val])        \n",
        "        if(num_files_desired_per_cluster <= 1.5*num_files_present):\n",
        "            file_idxs = np.arange(0, len(index_particular_label[kmeans_tsne==cluster_val]))\n",
        "            np.random.shuffle(file_idxs)\n",
        "            file_idxs = file_idxs[:int(min(num_files_desired_per_cluster,num_files_present))]\n",
        "            for i in file_idxs:\n",
        "                idx_label = (index_particular_label[kmeans_tsne==cluster_val][i])\n",
        "                new_file_path = '%s/%s/augmented_image_%s.jpg' % (folder_path, particular_label, i)\n",
        "                sk.io.imsave(new_file_path, train_images32_np[idx_label])\n",
        "\n",
        "        else:\n",
        "            dist_mat = np.ones((sum(kmeans_tsne==cluster_val),sum(kmeans_tsne==cluster_val)), dtype=np.float64)\n",
        "            for i in range(sum(kmeans_tsne==cluster_val)):\n",
        "                for j in range(i,sum(kmeans_tsne==cluster_val)):\n",
        "                    a = tsne_results[kmeans_tsne==cluster_val][i]\n",
        "                    b = tsne_results[kmeans_tsne==cluster_val][j]\n",
        "                    dist = np.linalg.norm(a-b)\n",
        "                    dist_mat[i,j] = float(\"{0:.2f}\".format(dist))\n",
        "                    dist_mat[j,i] = float(\"{0:.2f}\".format(dist))\n",
        "\n",
        "            k_nn_val_exp = round((num_files_desired_per_cluster-num_files_present)/num_files_present)\n",
        "            k_nn_val = k_nn_val_exp\n",
        "            c=0\n",
        "            if (num_files_present-1<k_nn_val):\n",
        "                k_nn_val = num_files_present-1\n",
        "            for looper in range(int(k_nn_val_exp/k_nn_val)): \n",
        "                for i in range(sum(kmeans_tsne==cluster_val)):\n",
        "                    knn = index_particular_label[kmeans_tsne==cluster_val][dist_mat.argsort()[:,1:k_nn_val+1]]\n",
        "                    orig_img = (train_images32_np[index_particular_label[kmeans_tsne==cluster_val][i]])\n",
        "                    g = np.random.uniform(size=k_nn_val)\n",
        "                    p = np.zeros((k_nn_val,32,32,3))\n",
        "                    for j in range(k_nn_val):\n",
        "                        p[j] = g[j]\n",
        "                    out_img = orig_img + p * (train_images32_np[knn[i]] - orig_img)\n",
        "                    for j in range(k_nn_val):\n",
        "                        c+=1\n",
        "                        new_file_path = '%s/%s/augmented_image_%s_%s.jpg' % (folder_path, particular_label, knn[i][j], c)\n",
        "                        sk.io.imsave(new_file_path,out_img[j])\n",
        "\n",
        "                for i in index_particular_label[kmeans_tsne==cluster_val]:\n",
        "                    new_file_path = \"%s/%s/augmented_image_%s.jpg\" % (folder_path, particular_label, i)\n",
        "                    try:\n",
        "                        sk.io.imsave(new_file_path, train_images32_np[i])\n",
        "                        break\n",
        "                    except:\n",
        "                        print(\"***************************************************************\")\n",
        "                        print(\"***************************************************************\")\n",
        "                        print(\"***************************************************************\")\n",
        "                        print(\"***************************************************************\")\n",
        "                        print(\"***************************************************************\")"
      ],
      "execution_count": 0,
      "outputs": []
    },
    {
      "cell_type": "code",
      "metadata": {
        "id": "QvuoV0T5Vihd",
        "colab_type": "code",
        "colab": {}
      },
      "source": [
        "aug_data_dir = r\"/content/gdrive/My Drive/traffic/smote_augmented_data3\"\n",
        "\n",
        "aug_images, aug_labels, aug_index = load_data(aug_data_dir)"
      ],
      "execution_count": 0,
      "outputs": []
    },
    {
      "cell_type": "code",
      "metadata": {
        "id": "IiKATda5ZV8h",
        "colab_type": "code",
        "colab": {}
      },
      "source": [
        "aug_labels_np = np.array(aug_labels)\n",
        "aug_images_np = np.array(aug_images)\n",
        "# for i in range(62):\n",
        "#   print(i, sum(aug_labels_np==i))"
      ],
      "execution_count": 0,
      "outputs": []
    },
    {
      "cell_type": "code",
      "metadata": {
        "id": "X9lVvKnSqxj6",
        "colab_type": "code",
        "colab": {}
      },
      "source": [
        "aug_images_np.shape"
      ],
      "execution_count": 0,
      "outputs": []
    },
    {
      "cell_type": "code",
      "metadata": {
        "id": "fwcIidnaZNzF",
        "colab_type": "code",
        "colab": {}
      },
      "source": [
        "for i in range(62):\n",
        "  print(i, sum(aug_labels_np==i))"
      ],
      "execution_count": 0,
      "outputs": []
    },
    {
      "cell_type": "markdown",
      "metadata": {
        "colab_type": "text",
        "id": "7wArwCTJJlUa"
      },
      "source": [
        "### Verify the data\n",
        "\n",
        "To verify that the dataset looks correct, let's plot the first 25 images from the training set and display the class name below each image.\n"
      ]
    },
    {
      "cell_type": "code",
      "metadata": {
        "colab_type": "code",
        "id": "K3PAELE2eSU9",
        "colab": {}
      },
      "source": [
        "# class_names = ['airplane', 'automobile', 'bird', 'cat', 'deer',\n",
        "#                'dog', 'frog', 'horse', 'ship', 'truck']\n",
        "\n",
        "# plt.figure(figsize=(10,10))\n",
        "# for i in range(25):\n",
        "#     plt.subplot(5,5,i+1)\n",
        "#     plt.xticks([])\n",
        "#     plt.yticks([])\n",
        "#     plt.grid(False)\n",
        "#     plt.imshow(train_images[i], cmap=plt.cm.binary)\n",
        "#     # The CIFAR labels happen to be arrays, \n",
        "#     # which is why you need the extra index\n",
        "#     plt.xlabel(class_names[train_labels[i][0]])\n",
        "# plt.show()"
      ],
      "execution_count": 0,
      "outputs": []
    },
    {
      "cell_type": "markdown",
      "metadata": {
        "colab_type": "text",
        "id": "Oewp-wYg31t9"
      },
      "source": [
        "### Create the convolutional base"
      ]
    },
    {
      "cell_type": "markdown",
      "metadata": {
        "colab_type": "text",
        "id": "3hQvqXpNyN3x"
      },
      "source": [
        "The 6 lines of code below define the convolutional base using a common pattern: a stack of [Conv2D](https://www.tensorflow.org/api_docs/python/tf/keras/layers/Conv2D) and [MaxPooling2D](https://www.tensorflow.org/api_docs/python/tf/keras/layers/MaxPool2D) layers.\n",
        "\n",
        "As input, a CNN takes tensors of shape (image_height, image_width, color_channels), ignoring the batch size. If you are new to these dimensions, color_channels refers to (R,G,B). In this example, you will configure our CNN to process inputs of shape (32, 32, 3), which is the format of CIFAR images. You can do this by passing the argument `input_shape` to our first layer.\n",
        "\n"
      ]
    },
    {
      "cell_type": "code",
      "metadata": {
        "colab_type": "code",
        "id": "L9YmGQBQPrdn",
        "colab": {}
      },
      "source": [
        "# model.add(layers.Conv2D(64, (3, 3), activation='relu', input_shape=(32, 32, 3)))\n",
        "# model.add(layers.MaxPooling2D((2, 2)))\n",
        "model = models.Sequential()\n",
        "model.add(layers.ZeroPadding2D((1,1),input_shape=(32,32,3)))\n",
        "model.add(layers.Conv2D(64, (3, 3), activation='relu'))\n",
        "model.add(layers.ZeroPadding2D((1,1)))\n",
        "model.add(layers.Conv2D(64, (3, 3), activation='relu'))\n",
        "model.add(layers.ZeroPadding2D((1,1)))\n",
        "model.add(layers.MaxPooling2D((2, 2)))\n",
        "\n",
        "model.add(layers.ZeroPadding2D((1,1)))\n",
        "model.add(layers.Conv2D(128, (3, 3), activation='relu'))\n",
        "model.add(layers.ZeroPadding2D((1,1)))\n",
        "model.add(layers.Conv2D(128, (3, 3), activation='relu'))\n",
        "model.add(layers.ZeroPadding2D((1,1)))\n",
        "model.add(layers.MaxPooling2D((2, 2)))\n",
        "\n",
        "model.add(layers.ZeroPadding2D((1,1)))\n",
        "model.add(layers.Conv2D(256, (3, 3), activation='relu'))\n",
        "model.add(layers.ZeroPadding2D((1,1)))\n",
        "model.add(layers.Conv2D(256, (3, 3), activation='relu'))\n",
        "model.add(layers.ZeroPadding2D((1,1)))\n",
        "model.add(layers.Conv2D(256, (3, 3), activation='relu'))\n",
        "model.add(layers.ZeroPadding2D((1,1)))\n",
        "model.add(layers.MaxPooling2D((2, 2)))\n",
        "\n",
        "# model.add(layers.ZeroPadding2D((1,1)))\n",
        "# model.add(layers.Conv2D(256, (3, 3), activation='relu'))\n",
        "# model.add(layers.ZeroPadding2D((1,1)))\n",
        "# model.add(layers.Conv2D(256, (3, 3), activation='relu'))\n",
        "# model.add(layers.ZeroPadding2D((1,1)))\n",
        "# model.add(layers.Conv2D(256, (3, 3), activation='relu'))\n",
        "# model.add(layers.ZeroPadding2D((1,1)))\n",
        "# model.add(layers.MaxPooling2D((2, 2)))"
      ],
      "execution_count": 0,
      "outputs": []
    },
    {
      "cell_type": "markdown",
      "metadata": {
        "colab_type": "text",
        "id": "lvDVFkg-2DPm"
      },
      "source": [
        "Let's display the architecture of our model so far."
      ]
    },
    {
      "cell_type": "code",
      "metadata": {
        "colab_type": "code",
        "id": "8-C4XBg4UTJy",
        "colab": {}
      },
      "source": [
        "model.summary()"
      ],
      "execution_count": 0,
      "outputs": []
    },
    {
      "cell_type": "markdown",
      "metadata": {
        "colab_type": "text",
        "id": "_j-AXYeZ2GO5"
      },
      "source": [
        "Above, you can see that the output of every Conv2D and MaxPooling2D layer is a 3D tensor of shape (height, width, channels). The width and height dimensions tend to shrink as you go deeper in the network. The number of output channels for each Conv2D layer is controlled by the first argument (e.g., 32 or 64). Typically,  as the width and height shrink, you can afford (computationally) to add more output channels in each Conv2D layer."
      ]
    },
    {
      "cell_type": "markdown",
      "metadata": {
        "colab_type": "text",
        "id": "_v8sVOtG37bT"
      },
      "source": [
        "### Add Dense layers on top\n",
        "To complete our model, you will feed the last output tensor from the convolutional base (of shape (3, 3, 64)) into one or more Dense layers to perform classification. Dense layers take vectors as input (which are 1D), while the current output is a 3D tensor. First, you will flatten (or unroll) the 3D output to 1D,  then add one or more Dense layers on top. CIFAR has 10 output classes, so you use a final Dense layer with 10 outputs and a softmax activation."
      ]
    },
    {
      "cell_type": "code",
      "metadata": {
        "colab_type": "code",
        "id": "mRs95d6LUVEi",
        "colab": {}
      },
      "source": [
        "model.add(layers.Flatten())\n",
        "model.add(layers.Dense(4096, activation='relu'))\n",
        "model.add(layers.Dense(4096, activation='relu'))\n",
        "model.add(layers.Dense(62, activation='softmax'))"
      ],
      "execution_count": 0,
      "outputs": []
    },
    {
      "cell_type": "markdown",
      "metadata": {
        "colab_type": "text",
        "id": "ipGiQMcR4Gtq"
      },
      "source": [
        "Here's the complete architecture of our model."
      ]
    },
    {
      "cell_type": "code",
      "metadata": {
        "colab_type": "code",
        "id": "8Yu_m-TZUWGX",
        "colab": {}
      },
      "source": [
        "model.summary()"
      ],
      "execution_count": 0,
      "outputs": []
    },
    {
      "cell_type": "markdown",
      "metadata": {
        "colab_type": "text",
        "id": "xNKXi-Gy3RO-"
      },
      "source": [
        "As you can see, our (3, 3, 64) outputs were flattened into vectors of shape (576) before going through two Dense layers."
      ]
    },
    {
      "cell_type": "markdown",
      "metadata": {
        "colab_type": "text",
        "id": "P3odqfHP4M67"
      },
      "source": [
        "### Compile and train the model"
      ]
    },
    {
      "cell_type": "code",
      "metadata": {
        "colab_type": "code",
        "id": "MdDzI75PUXrG",
        "colab": {}
      },
      "source": [
        "model.compile(optimizer='adam',\n",
        "              loss='sparse_categorical_crossentropy',\n",
        "              metrics=['accuracy'])\n",
        "\n",
        "# history = model.fit(aug_images_np, aug_labels_np, epochs=100, batch_size=128,\n",
        "#                     validation_data=(test_images32_np,  test_labels_np))\n",
        "\n",
        "history = model.fit(dupli_images32_np, dupli_labels_np, epochs=10, batch_size=64,\n",
        "                    validation_data=(vr_images32_np, vr_labels_np))"
      ],
      "execution_count": 0,
      "outputs": []
    },
    {
      "cell_type": "code",
      "metadata": {
        "id": "P3OqiHn8L5lW",
        "colab_type": "code",
        "colab": {}
      },
      "source": [
        "for i in range(62):\n",
        "  print (i, sum(aug_labels_np==i))\n",
        "# (aug_labels_np.shape)"
      ],
      "execution_count": 0,
      "outputs": []
    },
    {
      "cell_type": "code",
      "metadata": {
        "id": "JNAiP2NQKtKF",
        "colab_type": "code",
        "colab": {}
      },
      "source": [
        "display_images_and_labels(aug_images_np, list(aug_labels_np))"
      ],
      "execution_count": 0,
      "outputs": []
    },
    {
      "cell_type": "code",
      "metadata": {
        "id": "A434wP5XLWR7",
        "colab_type": "code",
        "colab": {}
      },
      "source": [
        "display_images_and_labels(train_images, train_labels)"
      ],
      "execution_count": 0,
      "outputs": []
    },
    {
      "cell_type": "markdown",
      "metadata": {
        "colab_type": "text",
        "id": "jKgyC5K_4O0d"
      },
      "source": [
        "### Evaluate the model"
      ]
    },
    {
      "cell_type": "code",
      "metadata": {
        "colab_type": "code",
        "id": "gtyDF0MKUcM7",
        "colab": {}
      },
      "source": [
        "plt.plot(history.history['accuracy'], label='accuracy')\n",
        "plt.plot(history.history['val_accuracy'], label = 'val_accuracy')\n",
        "plt.xlabel('Epoch')\n",
        "plt.ylabel('Accuracy')\n",
        "plt.ylim([0.5, 1])\n",
        "plt.legend(loc='lower right')\n",
        "\n",
        "test_loss, test_acc = model.evaluate(test_images32_np,  test_labels_np, verbose=2)"
      ],
      "execution_count": 0,
      "outputs": []
    },
    {
      "cell_type": "code",
      "metadata": {
        "id": "dy4BJHYBi2Os",
        "colab_type": "code",
        "colab": {}
      },
      "source": [
        "(model.predict(test_images32_np))[0]"
      ],
      "execution_count": 0,
      "outputs": []
    },
    {
      "cell_type": "code",
      "metadata": {
        "id": "YccogBPTjQ6R",
        "colab_type": "code",
        "colab": {}
      },
      "source": [
        "test_pred = np.argsort(model.predict(test_images32_np))[:,61]\n",
        "test_pred.shape"
      ],
      "execution_count": 0,
      "outputs": []
    },
    {
      "cell_type": "code",
      "metadata": {
        "id": "XbeyxlDvHrb1",
        "colab_type": "code",
        "colab": {}
      },
      "source": [
        "conf_arr = tf.math.confusion_matrix(\n",
        "    test_labels_np,\n",
        "    test_pred,\n",
        "    num_classes=62,\n",
        "    weights=None,\n",
        "    dtype=tf.dtypes.int32,\n",
        "    name=None\n",
        ")"
      ],
      "execution_count": 0,
      "outputs": []
    },
    {
      "cell_type": "code",
      "metadata": {
        "id": "43M1GUdRlLs6",
        "colab_type": "code",
        "colab": {}
      },
      "source": [
        "np.savetxt('2darray.csv', conf_arr, delimiter=',', fmt='%d')"
      ],
      "execution_count": 0,
      "outputs": []
    },
    {
      "cell_type": "code",
      "metadata": {
        "colab_type": "code",
        "id": "0LvwaKhtUdOo",
        "colab": {}
      },
      "source": [
        "print(test_acc)"
      ],
      "execution_count": 0,
      "outputs": []
    },
    {
      "cell_type": "markdown",
      "metadata": {
        "colab_type": "text",
        "id": "8cfJ8AR03gT5"
      },
      "source": [
        "Our simple CNN has achieved a test accuracy of over 70%. Not bad for a few lines of code! For another CNN style, see an example using the Keras subclassing API and a `tf.GradientTape` [here](https://www.tensorflow.org/tutorials/quickstart/advanced)."
      ]
    }
  ]
}